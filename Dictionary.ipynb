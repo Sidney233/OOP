{
 "cells": [
  {
   "cell_type": "code",
   "execution_count": 1,
   "id": "2fdbb392-6e3e-444e-844c-9b5abc7cff71",
   "metadata": {
    "tags": []
   },
   "outputs": [
    {
     "name": "stdin",
     "output_type": "stream",
     "text": [
      "please input a name:  name1\n"
     ]
    },
    {
     "name": "stdout",
     "output_type": "stream",
     "text": [
      "80\n"
     ]
    }
   ],
   "source": [
    "scores = {\"name1\": 80, \"name2\": 90, \"name3\": 100}\n",
    "name = input(\"please input a name: \")\n",
    "print(scores[name])"
   ]
  },
  {
   "cell_type": "code",
   "execution_count": 2,
   "id": "7f8f07c4-4a7f-4af5-b4dd-e1b02dcca222",
   "metadata": {
    "tags": []
   },
   "outputs": [],
   "source": [
    "scores[\"name4\"] = 98"
   ]
  },
  {
   "cell_type": "code",
   "execution_count": 3,
   "id": "465df250-cd5b-4735-b040-1979d96087b6",
   "metadata": {
    "tags": []
   },
   "outputs": [
    {
     "data": {
      "text/plain": [
       "{'name1': 80, 'name2': 90, 'name3': 100, 'name4': 98}"
      ]
     },
     "execution_count": 3,
     "metadata": {},
     "output_type": "execute_result"
    }
   ],
   "source": [
    "scores"
   ]
  },
  {
   "cell_type": "markdown",
   "id": "c8bf27ec-fea5-490b-932a-f3b0a654635c",
   "metadata": {},
   "source": [
    "做 key 的必须是不可变的"
   ]
  },
  {
   "cell_type": "code",
   "execution_count": 4,
   "id": "fac6b1e3-f316-4ea2-bfef-5212906ef21b",
   "metadata": {
    "tags": []
   },
   "outputs": [],
   "source": [
    "del scores[\"name1\"]"
   ]
  },
  {
   "cell_type": "code",
   "execution_count": 5,
   "id": "62c29066-581a-4d7d-9c97-010b72e1f102",
   "metadata": {
    "tags": []
   },
   "outputs": [
    {
     "data": {
      "text/plain": [
       "{'name2': 90, 'name3': 100, 'name4': 98}"
      ]
     },
     "execution_count": 5,
     "metadata": {},
     "output_type": "execute_result"
    }
   ],
   "source": [
    "scores"
   ]
  },
  {
   "cell_type": "code",
   "execution_count": 7,
   "id": "25008645-2a7e-4310-bbe6-3e0e91605b66",
   "metadata": {
    "tags": []
   },
   "outputs": [
    {
     "data": {
      "text/plain": [
       "{'name': 'Bob', 'age': 24}"
      ]
     },
     "execution_count": 7,
     "metadata": {},
     "output_type": "execute_result"
    }
   ],
   "source": [
    "d = dict(name=\"Bob\", age=24)  # 创建字典\n",
    "d"
   ]
  },
  {
   "cell_type": "code",
   "execution_count": 8,
   "id": "c50384cb-df4b-449d-a7e5-c8678a4aedfb",
   "metadata": {
    "tags": []
   },
   "outputs": [
    {
     "data": {
      "text/plain": [
       "{'name': 'A', 'age': 24}"
      ]
     },
     "execution_count": 8,
     "metadata": {},
     "output_type": "execute_result"
    }
   ],
   "source": [
    "d1 = d\n",
    "d1[\"name\"] = \"A\"\n",
    "d  # 直接赋值会导致问题"
   ]
  },
  {
   "cell_type": "code",
   "execution_count": 11,
   "id": "75cad7b1-f6ec-4991-90ad-8959d2fc60c7",
   "metadata": {
    "tags": []
   },
   "outputs": [
    {
     "data": {
      "text/plain": [
       "{'name': 'not_initialized', 'age': 'not_initialized'}"
      ]
     },
     "execution_count": 11,
     "metadata": {},
     "output_type": "execute_result"
    }
   ],
   "source": [
    "{}.fromkeys(['name', 'age'], \"not_initialized\")"
   ]
  },
  {
   "cell_type": "code",
   "execution_count": 15,
   "id": "d8f3ead3-e3bd-4757-b4ab-6972ac4a1def",
   "metadata": {
    "tags": []
   },
   "outputs": [
    {
     "data": {
      "text/plain": [
       "{'a': 4, 'e': 5, 'i': 7, 'o': 2, 'u': 0}"
      ]
     },
     "execution_count": 15,
     "metadata": {},
     "output_type": "execute_result"
    }
   ],
   "source": [
    "str = \"hello, this is a test. this is also a test. this is the final test\"\n",
    "count = dict.fromkeys(\"aeiou\", 0)\n",
    "for ch in str:\n",
    "    if ch in \"aeiou\":\n",
    "        count[ch] += 1\n",
    "\n",
    "count"
   ]
  },
  {
   "cell_type": "code",
   "execution_count": 16,
   "id": "c0e64244-188b-4e1d-b0f2-11b892dd4c9a",
   "metadata": {
    "tags": []
   },
   "outputs": [],
   "source": [
    "count.get(\"b\")"
   ]
  },
  {
   "cell_type": "code",
   "execution_count": 17,
   "id": "8cb50408-2209-48b2-b5b5-f106b2717a9a",
   "metadata": {
    "tags": []
   },
   "outputs": [
    {
     "data": {
      "text/plain": [
       "False"
      ]
     },
     "execution_count": 17,
     "metadata": {},
     "output_type": "execute_result"
    }
   ],
   "source": [
    "\"b\" in count"
   ]
  },
  {
   "cell_type": "code",
   "execution_count": 18,
   "id": "e98daea0-ce2d-408c-a4bd-a85c8b3e81a9",
   "metadata": {
    "tags": []
   },
   "outputs": [],
   "source": [
    "student = dict.fromkeys((\"name\", \"score\"))"
   ]
  },
  {
   "cell_type": "code",
   "execution_count": 19,
   "id": "cefe2040-b50f-4118-9933-7745cbce9f12",
   "metadata": {
    "tags": []
   },
   "outputs": [
    {
     "data": {
      "text/plain": [
       "{'name': None, 'score': None}"
      ]
     },
     "execution_count": 19,
     "metadata": {},
     "output_type": "execute_result"
    }
   ],
   "source": [
    "student"
   ]
  },
  {
   "cell_type": "code",
   "execution_count": 20,
   "id": "eb54a149-2dd9-480e-83d7-8a927cf4796e",
   "metadata": {
    "tags": []
   },
   "outputs": [
    {
     "name": "stdin",
     "output_type": "stream",
     "text": [
      "please input a name abc\n",
      "please input a score 14\n"
     ]
    }
   ],
   "source": [
    "student[\"name\"] = input(\"please input a name\")\n",
    "student[\"score\"] = input(\"please input a score\")"
   ]
  },
  {
   "cell_type": "code",
   "execution_count": 21,
   "id": "129fe0e1-4a4f-4624-bfaa-44b98410a064",
   "metadata": {
    "tags": []
   },
   "outputs": [
    {
     "data": {
      "text/plain": [
       "{'name': 'abc', 'score': '14'}"
      ]
     },
     "execution_count": 21,
     "metadata": {},
     "output_type": "execute_result"
    }
   ],
   "source": [
    "student"
   ]
  },
  {
   "cell_type": "code",
   "execution_count": 23,
   "id": "4621807c-266f-4efc-9e36-aaef9a462a59",
   "metadata": {
    "tags": []
   },
   "outputs": [],
   "source": [
    "text = \"\"\"赵钱孙李、周吴郑王、冯陈褚卫、蒋沈韩杨、朱秦尤许、何吕施张、孔曹严华、金魏陶姜、戚谢邹喻、柏水窦章、云苏潘葛、奚范彭郎、鲁韦昌马、苗凤花方、\n",
    "俞任袁柳、酆鲍史唐、费廉岑薛、雷贺倪汤、滕殷罗毕、郝邬安常、乐于时傅、皮卞齐康、伍余元卜、顾孟平黄、和穆萧尹、姚邵湛汪、祁毛禹狄、米贝明臧、计伏成戴、谈宋茅庞、\n",
    "熊纪舒屈、项祝董梁、杜阮蓝闵、席季麻强、贾路娄危、江童颜郭、梅盛林刁、钟徐邱骆、高夏蔡田、樊胡凌霍、虞万支柯、昝管卢莫、经房裘缪、干解应宗、丁宣贲邓、郁单杭洪、\n",
    "包诸左石、崔吉钮龚、程嵇邢滑、裴陆荣翁、荀羊於惠、甄麴家封、芮羿储靳、汲邴糜松、井段富巫、乌焦巴弓、牧隗山谷、车侯宓蓬、全郗班仰、秋仲伊宫、宁仇栾暴、甘钭厉戎、\n",
    "祖武符刘\"\"\""
   ]
  },
  {
   "cell_type": "code",
   "execution_count": 24,
   "id": "da7496e5-f683-4c36-a736-0aadaf22d31a",
   "metadata": {
    "tags": []
   },
   "outputs": [],
   "source": [
    "import pypinyin\n",
    "pinyin_list = pypinyin.pinyin(text, style=pypinyin.STYLE_NORMAL)"
   ]
  },
  {
   "cell_type": "code",
   "execution_count": 32,
   "id": "8ce9de14-c584-4d73-bc14-ffc3233758e7",
   "metadata": {
    "tags": []
   },
   "outputs": [],
   "source": [
    "name_list = [item[0].title() for item in pinyin_list if item[0] != '、']"
   ]
  },
  {
   "cell_type": "code",
   "execution_count": 33,
   "id": "2f7afddc-265d-4895-bdbd-364b7fb0a6f3",
   "metadata": {
    "tags": []
   },
   "outputs": [
    {
     "data": {
      "text/plain": [
       "['Zhao',\n",
       " 'Qian',\n",
       " 'Sun',\n",
       " 'Li',\n",
       " 'Zhou',\n",
       " 'Wu',\n",
       " 'Zheng',\n",
       " 'Wang',\n",
       " 'Feng',\n",
       " 'Chen',\n",
       " 'Chu',\n",
       " 'Wei',\n",
       " 'Jiang',\n",
       " 'Shen',\n",
       " 'Han',\n",
       " 'Yang',\n",
       " 'Zhu',\n",
       " 'Qin',\n",
       " 'You',\n",
       " 'Xu',\n",
       " 'He',\n",
       " 'Lv',\n",
       " 'Shi',\n",
       " 'Zhang',\n",
       " 'Kong',\n",
       " 'Cao',\n",
       " 'Yan',\n",
       " 'Hua',\n",
       " 'Jin',\n",
       " 'Wei',\n",
       " 'Tao',\n",
       " 'Jiang',\n",
       " 'Qi',\n",
       " 'Xie',\n",
       " 'Zou',\n",
       " 'Yu',\n",
       " 'Bai',\n",
       " 'Shui',\n",
       " 'Dou',\n",
       " 'Zhang',\n",
       " 'Yun',\n",
       " 'Su',\n",
       " 'Pan',\n",
       " 'Ge',\n",
       " 'Xi',\n",
       " 'Fan',\n",
       " 'Peng',\n",
       " 'Lang',\n",
       " 'Lu',\n",
       " 'Wei',\n",
       " 'Chang',\n",
       " 'Ma',\n",
       " 'Miao',\n",
       " 'Feng',\n",
       " 'Hua',\n",
       " 'Fang',\n",
       " 'Yu',\n",
       " 'Ren',\n",
       " 'Yuan',\n",
       " 'Liu',\n",
       " 'Feng',\n",
       " 'Bao',\n",
       " 'Shi',\n",
       " 'Tang',\n",
       " 'Fei',\n",
       " 'Lian',\n",
       " 'Cen',\n",
       " 'Xue',\n",
       " 'Lei',\n",
       " 'He',\n",
       " 'Ni',\n",
       " 'Tang',\n",
       " 'Teng',\n",
       " 'Yin',\n",
       " 'Luo',\n",
       " 'Bi',\n",
       " 'Hao',\n",
       " 'Wu',\n",
       " 'An',\n",
       " 'Chang',\n",
       " 'Le',\n",
       " 'Yu',\n",
       " 'Shi',\n",
       " 'Fu',\n",
       " 'Pi',\n",
       " 'Bian',\n",
       " 'Qi',\n",
       " 'Kang',\n",
       " 'Wu',\n",
       " 'Yu',\n",
       " 'Yuan',\n",
       " 'Bo',\n",
       " 'Gu',\n",
       " 'Meng',\n",
       " 'Ping',\n",
       " 'Huang',\n",
       " 'He',\n",
       " 'Mu',\n",
       " 'Xiao',\n",
       " 'Yin',\n",
       " 'Yao',\n",
       " 'Shao',\n",
       " 'Zhan',\n",
       " 'Wang',\n",
       " 'Qi',\n",
       " 'Mao',\n",
       " 'Yu',\n",
       " 'Di',\n",
       " 'Mi',\n",
       " 'Bei',\n",
       " 'Ming',\n",
       " 'Zang',\n",
       " 'Ji',\n",
       " 'Fu',\n",
       " 'Cheng',\n",
       " 'Dai',\n",
       " 'Tan',\n",
       " 'Song',\n",
       " 'Mao',\n",
       " 'Pang',\n",
       " 'Xiong',\n",
       " 'Ji',\n",
       " 'Shu',\n",
       " 'Qu',\n",
       " 'Xiang',\n",
       " 'Zhu',\n",
       " 'Dong',\n",
       " 'Liang',\n",
       " 'Du',\n",
       " 'Ruan',\n",
       " 'Lan',\n",
       " 'Min',\n",
       " 'Xi',\n",
       " 'Ji',\n",
       " 'Ma',\n",
       " 'Qiang',\n",
       " 'Jia',\n",
       " 'Lu',\n",
       " 'Lou',\n",
       " 'Wei',\n",
       " 'Jiang',\n",
       " 'Tong',\n",
       " 'Yan',\n",
       " 'Guo',\n",
       " 'Mei',\n",
       " 'Sheng',\n",
       " 'Lin',\n",
       " 'Diao',\n",
       " 'Zhong',\n",
       " 'Xu',\n",
       " 'Qiu',\n",
       " 'Luo',\n",
       " 'Gao',\n",
       " 'Xia',\n",
       " 'Cai',\n",
       " 'Tian',\n",
       " 'Fan',\n",
       " 'Hu',\n",
       " 'Ling',\n",
       " 'Huo',\n",
       " 'Yu',\n",
       " 'Wan',\n",
       " 'Zhi',\n",
       " 'Ke',\n",
       " 'Zan',\n",
       " 'Guan',\n",
       " 'Lu',\n",
       " 'Mo',\n",
       " 'Jing',\n",
       " 'Fang',\n",
       " 'Qiu',\n",
       " 'Mou',\n",
       " 'Gan',\n",
       " 'Jie',\n",
       " 'Ying',\n",
       " 'Zong',\n",
       " 'Ding',\n",
       " 'Xuan',\n",
       " 'Ben',\n",
       " 'Deng',\n",
       " 'Yu',\n",
       " 'Dan',\n",
       " 'Hang',\n",
       " 'Hong',\n",
       " 'Bao',\n",
       " 'Zhu',\n",
       " 'Zuo',\n",
       " 'Shi',\n",
       " 'Cui',\n",
       " 'Ji',\n",
       " 'Niu',\n",
       " 'Gong',\n",
       " 'Cheng',\n",
       " 'Ji',\n",
       " 'Xing',\n",
       " 'Hua',\n",
       " 'Pei',\n",
       " 'Lu',\n",
       " 'Rong',\n",
       " 'Weng',\n",
       " 'Xun',\n",
       " 'Yang',\n",
       " 'Yu',\n",
       " 'Hui',\n",
       " 'Zhen',\n",
       " 'Qu',\n",
       " 'Jia',\n",
       " 'Feng',\n",
       " 'Rui',\n",
       " 'Yi',\n",
       " 'Chu',\n",
       " 'Jin',\n",
       " 'Ji',\n",
       " 'Bing',\n",
       " 'Mi',\n",
       " 'Song',\n",
       " 'Jing',\n",
       " 'Duan',\n",
       " 'Fu',\n",
       " 'Wu',\n",
       " 'Wu',\n",
       " 'Jiao',\n",
       " 'Ba',\n",
       " 'Gong',\n",
       " 'Mu',\n",
       " 'Kui',\n",
       " 'Shan',\n",
       " 'Gu',\n",
       " 'Che',\n",
       " 'Hou',\n",
       " 'Mi',\n",
       " 'Peng',\n",
       " 'Quan',\n",
       " 'Xi',\n",
       " 'Ban',\n",
       " 'Yang',\n",
       " 'Qiu',\n",
       " 'Zhong',\n",
       " 'Yi',\n",
       " 'Gong',\n",
       " 'Ning',\n",
       " 'Chou',\n",
       " 'Luan',\n",
       " 'Bao',\n",
       " 'Gan',\n",
       " 'Tou',\n",
       " 'Li',\n",
       " 'Rong',\n",
       " 'Zu',\n",
       " 'Wu',\n",
       " 'Fu',\n",
       " 'Liu']"
      ]
     },
     "execution_count": 33,
     "metadata": {},
     "output_type": "execute_result"
    }
   ],
   "source": [
    "name_list"
   ]
  },
  {
   "cell_type": "code",
   "execution_count": 34,
   "id": "b20aae90-8a12-417d-bc0c-b488b215f939",
   "metadata": {
    "tags": []
   },
   "outputs": [
    {
     "data": {
      "text/plain": [
       "{'An',\n",
       " 'Ba',\n",
       " 'Bai',\n",
       " 'Ban',\n",
       " 'Bao',\n",
       " 'Bei',\n",
       " 'Ben',\n",
       " 'Bi',\n",
       " 'Bian',\n",
       " 'Bing',\n",
       " 'Bo',\n",
       " 'Cai',\n",
       " 'Cao',\n",
       " 'Cen',\n",
       " 'Chang',\n",
       " 'Che',\n",
       " 'Chen',\n",
       " 'Cheng',\n",
       " 'Chou',\n",
       " 'Chu',\n",
       " 'Cui',\n",
       " 'Dai',\n",
       " 'Dan',\n",
       " 'Deng',\n",
       " 'Di',\n",
       " 'Diao',\n",
       " 'Ding',\n",
       " 'Dong',\n",
       " 'Dou',\n",
       " 'Du',\n",
       " 'Duan',\n",
       " 'Fan',\n",
       " 'Fang',\n",
       " 'Fei',\n",
       " 'Feng',\n",
       " 'Fu',\n",
       " 'Gan',\n",
       " 'Gao',\n",
       " 'Ge',\n",
       " 'Gong',\n",
       " 'Gu',\n",
       " 'Guan',\n",
       " 'Guo',\n",
       " 'Han',\n",
       " 'Hang',\n",
       " 'Hao',\n",
       " 'He',\n",
       " 'Hong',\n",
       " 'Hou',\n",
       " 'Hu',\n",
       " 'Hua',\n",
       " 'Huang',\n",
       " 'Hui',\n",
       " 'Huo',\n",
       " 'Ji',\n",
       " 'Jia',\n",
       " 'Jiang',\n",
       " 'Jiao',\n",
       " 'Jie',\n",
       " 'Jin',\n",
       " 'Jing',\n",
       " 'Kang',\n",
       " 'Ke',\n",
       " 'Kong',\n",
       " 'Kui',\n",
       " 'Lan',\n",
       " 'Lang',\n",
       " 'Le',\n",
       " 'Lei',\n",
       " 'Li',\n",
       " 'Lian',\n",
       " 'Liang',\n",
       " 'Lin',\n",
       " 'Ling',\n",
       " 'Liu',\n",
       " 'Lou',\n",
       " 'Lu',\n",
       " 'Luan',\n",
       " 'Luo',\n",
       " 'Lv',\n",
       " 'Ma',\n",
       " 'Mao',\n",
       " 'Mei',\n",
       " 'Meng',\n",
       " 'Mi',\n",
       " 'Miao',\n",
       " 'Min',\n",
       " 'Ming',\n",
       " 'Mo',\n",
       " 'Mou',\n",
       " 'Mu',\n",
       " 'Ni',\n",
       " 'Ning',\n",
       " 'Niu',\n",
       " 'Pan',\n",
       " 'Pang',\n",
       " 'Pei',\n",
       " 'Peng',\n",
       " 'Pi',\n",
       " 'Ping',\n",
       " 'Qi',\n",
       " 'Qian',\n",
       " 'Qiang',\n",
       " 'Qin',\n",
       " 'Qiu',\n",
       " 'Qu',\n",
       " 'Quan',\n",
       " 'Ren',\n",
       " 'Rong',\n",
       " 'Ruan',\n",
       " 'Rui',\n",
       " 'Shan',\n",
       " 'Shao',\n",
       " 'Shen',\n",
       " 'Sheng',\n",
       " 'Shi',\n",
       " 'Shu',\n",
       " 'Shui',\n",
       " 'Song',\n",
       " 'Su',\n",
       " 'Sun',\n",
       " 'Tan',\n",
       " 'Tang',\n",
       " 'Tao',\n",
       " 'Teng',\n",
       " 'Tian',\n",
       " 'Tong',\n",
       " 'Tou',\n",
       " 'Wan',\n",
       " 'Wang',\n",
       " 'Wei',\n",
       " 'Weng',\n",
       " 'Wu',\n",
       " 'Xi',\n",
       " 'Xia',\n",
       " 'Xiang',\n",
       " 'Xiao',\n",
       " 'Xie',\n",
       " 'Xing',\n",
       " 'Xiong',\n",
       " 'Xu',\n",
       " 'Xuan',\n",
       " 'Xue',\n",
       " 'Xun',\n",
       " 'Yan',\n",
       " 'Yang',\n",
       " 'Yao',\n",
       " 'Yi',\n",
       " 'Yin',\n",
       " 'Ying',\n",
       " 'You',\n",
       " 'Yu',\n",
       " 'Yuan',\n",
       " 'Yun',\n",
       " 'Zan',\n",
       " 'Zang',\n",
       " 'Zhan',\n",
       " 'Zhang',\n",
       " 'Zhao',\n",
       " 'Zhen',\n",
       " 'Zheng',\n",
       " 'Zhi',\n",
       " 'Zhong',\n",
       " 'Zhou',\n",
       " 'Zhu',\n",
       " 'Zong',\n",
       " 'Zou',\n",
       " 'Zu',\n",
       " 'Zuo'}"
      ]
     },
     "execution_count": 34,
     "metadata": {},
     "output_type": "execute_result"
    }
   ],
   "source": [
    "name_list = set(name_list)\n",
    "name_list"
   ]
  },
  {
   "cell_type": "code",
   "execution_count": 35,
   "id": "fb2e2ea1-338d-4e71-b6a5-e73436daea3b",
   "metadata": {
    "tags": []
   },
   "outputs": [],
   "source": [
    "name_list = list(name_list)"
   ]
  },
  {
   "cell_type": "code",
   "execution_count": 36,
   "id": "63f3aa09-4cc7-400f-a176-420b69d5013b",
   "metadata": {
    "tags": []
   },
   "outputs": [
    {
     "data": {
      "text/plain": [
       "'Ren'"
      ]
     },
     "execution_count": 36,
     "metadata": {},
     "output_type": "execute_result"
    }
   ],
   "source": [
    "import random\n",
    "random.choice(name_list)"
   ]
  },
  {
   "cell_type": "code",
   "execution_count": 37,
   "id": "720969f7-7896-49b4-a1c6-c3e50533e3ab",
   "metadata": {
    "tags": []
   },
   "outputs": [
    {
     "data": {
      "text/plain": [
       "76"
      ]
     },
     "execution_count": 37,
     "metadata": {},
     "output_type": "execute_result"
    }
   ],
   "source": [
    "random.randint(0, 100)"
   ]
  },
  {
   "cell_type": "code",
   "execution_count": 38,
   "id": "9ef47bb0-fab1-4ab4-b4a8-e4aed34e26bd",
   "metadata": {
    "tags": []
   },
   "outputs": [
    {
     "data": {
      "text/plain": [
       "49.81204129383728"
      ]
     },
     "execution_count": 38,
     "metadata": {},
     "output_type": "execute_result"
    }
   ],
   "source": [
    "random.gauss(75, 20)"
   ]
  },
  {
   "cell_type": "code",
   "execution_count": 39,
   "id": "9fe3864a-39d1-4eba-8718-a4a8534f54bf",
   "metadata": {
    "tags": []
   },
   "outputs": [
    {
     "data": {
      "text/plain": [
       "[58.28001255474282,\n",
       " 67.76278660447329,\n",
       " 81.40975365935196,\n",
       " 64.08657983618149,\n",
       " 106.37139547352086,\n",
       " 120.41007747688593,\n",
       " 67.94821542743202,\n",
       " 92.94263125676295,\n",
       " 40.63131587918007,\n",
       " 79.78800572014696,\n",
       " 115.85559122941353,\n",
       " 76.63628011858471,\n",
       " 79.93527259358527,\n",
       " 81.79034117863294,\n",
       " 102.86886517892901,\n",
       " 105.29109686148419,\n",
       " 71.81832409647419,\n",
       " 80.80132405421543,\n",
       " 46.39766436170774,\n",
       " 47.790380548242055,\n",
       " 59.06387708357478,\n",
       " 85.8183477456872,\n",
       " 80.68730842092006,\n",
       " 66.05492440788353,\n",
       " 68.70919133162108,\n",
       " 54.78688635918536,\n",
       " 34.375528683357,\n",
       " 66.82541562227965,\n",
       " 60.901932655970256,\n",
       " 80.91841238545734,\n",
       " 75.89879633016231,\n",
       " 62.89107749723725,\n",
       " 63.00044272009935,\n",
       " 81.21415638678961,\n",
       " 93.30763224702139,\n",
       " 78.21354830760671,\n",
       " 53.83587137008007,\n",
       " 85.29250921550086,\n",
       " 93.10932234567657,\n",
       " 96.96126296621516,\n",
       " 81.31086331434693,\n",
       " 95.72410097447897,\n",
       " 85.18893276191783,\n",
       " 79.7648356254278,\n",
       " 81.24915794818315,\n",
       " 76.01498199525129,\n",
       " 43.93731504808599,\n",
       " 98.04436050478901,\n",
       " 76.53969449432594,\n",
       " 97.19727745986276,\n",
       " 82.0497043275488,\n",
       " 82.2092735516737,\n",
       " 90.23986009168615,\n",
       " 56.98380198364324,\n",
       " 92.02281067630165,\n",
       " 70.39797378390132,\n",
       " 88.24586222612061,\n",
       " 62.00654289799469,\n",
       " 84.12091881267465,\n",
       " 49.680487900815265,\n",
       " 70.15719215245537,\n",
       " 81.16366135449962,\n",
       " 82.87358696848446,\n",
       " 56.60885350540879,\n",
       " 50.556110852027075,\n",
       " 47.937454459818895,\n",
       " 61.76818716025699,\n",
       " 51.24381961222889,\n",
       " 42.45245457283207,\n",
       " 66.56719377184503,\n",
       " 62.49997654519762,\n",
       " 81.23776668982941,\n",
       " 107.59029291943855,\n",
       " 70.62548990587204,\n",
       " 68.91555243804092,\n",
       " 86.49245211251262,\n",
       " 75.40699719063548,\n",
       " 58.076829930224605,\n",
       " 76.77041883106452,\n",
       " 50.53785122761697,\n",
       " 82.1579705561939,\n",
       " 116.83560020241674,\n",
       " 52.090707853707315,\n",
       " 85.03913272398727,\n",
       " 46.33101550370975,\n",
       " 54.07751055012079,\n",
       " 83.7150752669479,\n",
       " 79.84844747444764,\n",
       " 99.128093193712,\n",
       " 85.2623689363468,\n",
       " 75.12390149875483,\n",
       " 80.63432285101018,\n",
       " 92.18769223619357,\n",
       " 84.86634325234573,\n",
       " 85.64060607017885,\n",
       " 104.51590979867211,\n",
       " 54.77795701447851,\n",
       " 54.467206813691035,\n",
       " 114.05750764213285,\n",
       " 105.49512195267255]"
      ]
     },
     "execution_count": 39,
     "metadata": {},
     "output_type": "execute_result"
    }
   ],
   "source": [
    "[random.gauss(75, 20) for i in range(0, 100)]"
   ]
  },
  {
   "cell_type": "code",
   "execution_count": 43,
   "id": "1967bdab-d3fa-4074-9811-20f7fc0fa3b2",
   "metadata": {
    "tags": []
   },
   "outputs": [],
   "source": [
    "import math\n",
    "\n",
    "def get_random_score():\n",
    "    score = math.ceil(random.gauss(75, 20))\n",
    "    if score > 100: score = 100\n",
    "    if score < 0: score = 0\n",
    "    return score"
   ]
  },
  {
   "cell_type": "code",
   "execution_count": 44,
   "id": "fd287850-eea5-4cb3-a0a8-b053a439c96b",
   "metadata": {
    "tags": []
   },
   "outputs": [],
   "source": [
    "score_template = {\"physics\": None, \"math\": None, \"python\": None}\n",
    "scores = score_template.copy()\n",
    "\n",
    "score_db = dict()\n",
    "for name in name_list:\n",
    "    score_db[name] = {\"physics\": get_random_score(), \"math\": get_random_score(), \"python\": get_random_score()}"
   ]
  },
  {
   "cell_type": "code",
   "execution_count": 46,
   "id": "086b9569-f697-435a-a762-492800c389f4",
   "metadata": {
    "tags": []
   },
   "outputs": [
    {
     "data": {
      "text/plain": [
       "{'Ke': {'physics': 56, 'math': 61, 'python': 100},\n",
       " 'Weng': {'physics': 67, 'math': 62, 'python': 69},\n",
       " 'Zhong': {'physics': 42, 'math': 1, 'python': 58},\n",
       " 'Tou': {'physics': 85, 'math': 58, 'python': 43},\n",
       " 'Hao': {'physics': 69, 'math': 76, 'python': 33},\n",
       " 'Dong': {'physics': 62, 'math': 97, 'python': 73},\n",
       " 'Sheng': {'physics': 100, 'math': 67, 'python': 80},\n",
       " 'Ni': {'physics': 38, 'math': 56, 'python': 42},\n",
       " 'Gao': {'physics': 92, 'math': 66, 'python': 94},\n",
       " 'Du': {'physics': 62, 'math': 77, 'python': 67},\n",
       " 'Zhou': {'physics': 85, 'math': 64, 'python': 100},\n",
       " 'Tong': {'physics': 57, 'math': 86, 'python': 56},\n",
       " 'Xiao': {'physics': 100, 'math': 78, 'python': 69},\n",
       " 'Zhang': {'physics': 79, 'math': 79, 'python': 68},\n",
       " 'Fang': {'physics': 97, 'math': 57, 'python': 100},\n",
       " 'Tan': {'physics': 65, 'math': 69, 'python': 60},\n",
       " 'Che': {'physics': 49, 'math': 62, 'python': 87},\n",
       " 'Yuan': {'physics': 79, 'math': 47, 'python': 75},\n",
       " 'Lian': {'physics': 63, 'math': 57, 'python': 100},\n",
       " 'Qin': {'physics': 86, 'math': 68, 'python': 62},\n",
       " 'Luo': {'physics': 49, 'math': 80, 'python': 59},\n",
       " 'Bai': {'physics': 77, 'math': 70, 'python': 98},\n",
       " 'Ban': {'physics': 74, 'math': 88, 'python': 87},\n",
       " 'Qian': {'physics': 76, 'math': 54, 'python': 66},\n",
       " 'Wu': {'physics': 95, 'math': 76, 'python': 100},\n",
       " 'Jiao': {'physics': 98, 'math': 86, 'python': 80},\n",
       " 'He': {'physics': 67, 'math': 86, 'python': 98},\n",
       " 'Mu': {'physics': 75, 'math': 64, 'python': 94},\n",
       " 'Ling': {'physics': 76, 'math': 44, 'python': 83},\n",
       " 'Lei': {'physics': 23, 'math': 34, 'python': 96},\n",
       " 'Tang': {'physics': 75, 'math': 81, 'python': 81},\n",
       " 'Gu': {'physics': 84, 'math': 58, 'python': 73},\n",
       " 'Mi': {'physics': 78, 'math': 17, 'python': 73},\n",
       " 'Zou': {'physics': 100, 'math': 51, 'python': 26},\n",
       " 'Han': {'physics': 71, 'math': 57, 'python': 78},\n",
       " 'Tian': {'physics': 66, 'math': 100, 'python': 42},\n",
       " 'Min': {'physics': 49, 'math': 100, 'python': 75},\n",
       " 'Bian': {'physics': 96, 'math': 100, 'python': 69},\n",
       " 'Chu': {'physics': 100, 'math': 84, 'python': 86},\n",
       " 'Jie': {'physics': 90, 'math': 69, 'python': 76},\n",
       " 'Teng': {'physics': 78, 'math': 93, 'python': 58},\n",
       " 'Ma': {'physics': 66, 'math': 39, 'python': 61},\n",
       " 'Zan': {'physics': 73, 'math': 95, 'python': 81},\n",
       " 'Diao': {'physics': 83, 'math': 86, 'python': 66},\n",
       " 'Shui': {'physics': 38, 'math': 51, 'python': 67},\n",
       " 'Shao': {'physics': 100, 'math': 22, 'python': 80},\n",
       " 'Miao': {'physics': 36, 'math': 71, 'python': 73},\n",
       " 'Lou': {'physics': 63, 'math': 25, 'python': 44},\n",
       " 'Hang': {'physics': 100, 'math': 60, 'python': 85},\n",
       " 'Niu': {'physics': 96, 'math': 81, 'python': 44},\n",
       " 'Zhao': {'physics': 94, 'math': 48, 'python': 87},\n",
       " 'Hua': {'physics': 76, 'math': 86, 'python': 15},\n",
       " 'Liang': {'physics': 79, 'math': 29, 'python': 70},\n",
       " 'Jia': {'physics': 100, 'math': 84, 'python': 70},\n",
       " 'Sun': {'physics': 100, 'math': 70, 'python': 92},\n",
       " 'Lu': {'physics': 64, 'math': 56, 'python': 85},\n",
       " 'Zuo': {'physics': 100, 'math': 100, 'python': 100},\n",
       " 'Rui': {'physics': 63, 'math': 100, 'python': 82},\n",
       " 'Qiang': {'physics': 77, 'math': 76, 'python': 92},\n",
       " 'Shi': {'physics': 100, 'math': 74, 'python': 100},\n",
       " 'Jin': {'physics': 85, 'math': 41, 'python': 25},\n",
       " 'Jiang': {'physics': 72, 'math': 71, 'python': 72},\n",
       " 'Zhen': {'physics': 74, 'math': 47, 'python': 100},\n",
       " 'Ren': {'physics': 100, 'math': 86, 'python': 75},\n",
       " 'Li': {'physics': 81, 'math': 45, 'python': 89},\n",
       " 'Ding': {'physics': 64, 'math': 83, 'python': 81},\n",
       " 'Rong': {'physics': 60, 'math': 87, 'python': 66},\n",
       " 'Shen': {'physics': 76, 'math': 67, 'python': 80},\n",
       " 'Lin': {'physics': 84, 'math': 64, 'python': 60},\n",
       " 'Guan': {'physics': 52, 'math': 76, 'python': 55},\n",
       " 'Ji': {'physics': 81, 'math': 81, 'python': 74},\n",
       " 'Song': {'physics': 71, 'math': 86, 'python': 63},\n",
       " 'Fan': {'physics': 81, 'math': 84, 'python': 93},\n",
       " 'Yu': {'physics': 63, 'math': 51, 'python': 82},\n",
       " 'Yi': {'physics': 69, 'math': 97, 'python': 62},\n",
       " 'Quan': {'physics': 52, 'math': 94, 'python': 77},\n",
       " 'Ning': {'physics': 84, 'math': 88, 'python': 100},\n",
       " 'Zhu': {'physics': 44, 'math': 86, 'python': 76},\n",
       " 'Xu': {'physics': 57, 'math': 76, 'python': 42},\n",
       " 'Zhan': {'physics': 62, 'math': 78, 'python': 79},\n",
       " 'Lv': {'physics': 70, 'math': 98, 'python': 43},\n",
       " 'Zheng': {'physics': 39, 'math': 71, 'python': 100},\n",
       " 'Le': {'physics': 43, 'math': 88, 'python': 82},\n",
       " 'Shan': {'physics': 87, 'math': 81, 'python': 77},\n",
       " 'Cheng': {'physics': 97, 'math': 60, 'python': 67},\n",
       " 'Chang': {'physics': 99, 'math': 44, 'python': 87},\n",
       " 'Dou': {'physics': 100, 'math': 63, 'python': 79},\n",
       " 'Yun': {'physics': 76, 'math': 87, 'python': 77},\n",
       " 'Pi': {'physics': 61, 'math': 77, 'python': 97},\n",
       " 'Kui': {'physics': 82, 'math': 84, 'python': 94},\n",
       " 'Yao': {'physics': 100, 'math': 83, 'python': 100},\n",
       " 'Ping': {'physics': 77, 'math': 60, 'python': 64},\n",
       " 'Yin': {'physics': 100, 'math': 65, 'python': 87},\n",
       " 'Wan': {'physics': 78, 'math': 80, 'python': 74},\n",
       " 'You': {'physics': 100, 'math': 62, 'python': 91},\n",
       " 'Pan': {'physics': 64, 'math': 90, 'python': 52},\n",
       " 'Xi': {'physics': 100, 'math': 77, 'python': 60},\n",
       " 'Guo': {'physics': 54, 'math': 89, 'python': 87},\n",
       " 'Meng': {'physics': 52, 'math': 74, 'python': 100},\n",
       " 'Cai': {'physics': 33, 'math': 60, 'python': 78},\n",
       " 'Mo': {'physics': 79, 'math': 52, 'python': 64},\n",
       " 'Su': {'physics': 74, 'math': 43, 'python': 45},\n",
       " 'Duan': {'physics': 58, 'math': 86, 'python': 64},\n",
       " 'Di': {'physics': 27, 'math': 37, 'python': 88},\n",
       " 'Shu': {'physics': 48, 'math': 64, 'python': 99},\n",
       " 'Xuan': {'physics': 49, 'math': 41, 'python': 76},\n",
       " 'Mao': {'physics': 76, 'math': 90, 'python': 100},\n",
       " 'Zu': {'physics': 75, 'math': 82, 'python': 66},\n",
       " 'Bo': {'physics': 83, 'math': 98, 'python': 100},\n",
       " 'Fu': {'physics': 53, 'math': 41, 'python': 77},\n",
       " 'Ge': {'physics': 51, 'math': 58, 'python': 58},\n",
       " 'Qi': {'physics': 55, 'math': 83, 'python': 93},\n",
       " 'Hui': {'physics': 75, 'math': 42, 'python': 81},\n",
       " 'Pei': {'physics': 68, 'math': 65, 'python': 98},\n",
       " 'Ying': {'physics': 52, 'math': 65, 'python': 93},\n",
       " 'Hou': {'physics': 74, 'math': 77, 'python': 50},\n",
       " 'Hong': {'physics': 78, 'math': 99, 'python': 66},\n",
       " 'Mou': {'physics': 79, 'math': 74, 'python': 100},\n",
       " 'Gan': {'physics': 91, 'math': 100, 'python': 87},\n",
       " 'Xia': {'physics': 80, 'math': 100, 'python': 91},\n",
       " 'Ba': {'physics': 62, 'math': 100, 'python': 91},\n",
       " 'Xie': {'physics': 100, 'math': 44, 'python': 96},\n",
       " 'Luan': {'physics': 77, 'math': 81, 'python': 68},\n",
       " 'Chen': {'physics': 65, 'math': 100, 'python': 100},\n",
       " 'Zang': {'physics': 57, 'math': 55, 'python': 58},\n",
       " 'Bi': {'physics': 100, 'math': 77, 'python': 91},\n",
       " 'Dan': {'physics': 65, 'math': 76, 'python': 62},\n",
       " 'Xiong': {'physics': 100, 'math': 100, 'python': 72},\n",
       " 'Lan': {'physics': 88, 'math': 51, 'python': 95},\n",
       " 'Ming': {'physics': 52, 'math': 69, 'python': 75},\n",
       " 'Hu': {'physics': 84, 'math': 80, 'python': 99},\n",
       " 'Feng': {'physics': 93, 'math': 77, 'python': 88},\n",
       " 'Cen': {'physics': 56, 'math': 80, 'python': 51},\n",
       " 'Gong': {'physics': 67, 'math': 72, 'python': 52},\n",
       " 'Zhi': {'physics': 70, 'math': 81, 'python': 79},\n",
       " 'Bei': {'physics': 72, 'math': 88, 'python': 55},\n",
       " 'Mei': {'physics': 79, 'math': 89, 'python': 64},\n",
       " 'Yan': {'physics': 89, 'math': 93, 'python': 80},\n",
       " 'Dai': {'physics': 71, 'math': 56, 'python': 83},\n",
       " 'Kang': {'physics': 25, 'math': 43, 'python': 84},\n",
       " 'Ben': {'physics': 66, 'math': 100, 'python': 89},\n",
       " 'Tao': {'physics': 74, 'math': 44, 'python': 80},\n",
       " 'Xue': {'physics': 65, 'math': 94, 'python': 81},\n",
       " 'Chou': {'physics': 34, 'math': 60, 'python': 55},\n",
       " 'An': {'physics': 93, 'math': 94, 'python': 80},\n",
       " 'Deng': {'physics': 76, 'math': 86, 'python': 100},\n",
       " 'Zong': {'physics': 100, 'math': 74, 'python': 80},\n",
       " 'Bing': {'physics': 64, 'math': 63, 'python': 69},\n",
       " 'Qu': {'physics': 84, 'math': 100, 'python': 86},\n",
       " 'Xun': {'physics': 49, 'math': 58, 'python': 79},\n",
       " 'Lang': {'physics': 53, 'math': 98, 'python': 65},\n",
       " 'Fei': {'physics': 65, 'math': 77, 'python': 91},\n",
       " 'Jing': {'physics': 60, 'math': 93, 'python': 76},\n",
       " 'Peng': {'physics': 89, 'math': 64, 'python': 96},\n",
       " 'Wei': {'physics': 100, 'math': 89, 'python': 74},\n",
       " 'Xiang': {'physics': 53, 'math': 100, 'python': 69},\n",
       " 'Ruan': {'physics': 54, 'math': 100, 'python': 90},\n",
       " 'Xing': {'physics': 100, 'math': 83, 'python': 42},\n",
       " 'Wang': {'physics': 65, 'math': 84, 'python': 62},\n",
       " 'Cao': {'physics': 49, 'math': 69, 'python': 100},\n",
       " 'Liu': {'physics': 84, 'math': 74, 'python': 77},\n",
       " 'Yang': {'physics': 76, 'math': 95, 'python': 33},\n",
       " 'Kong': {'physics': 70, 'math': 73, 'python': 73},\n",
       " 'Huang': {'physics': 84, 'math': 67, 'python': 56},\n",
       " 'Qiu': {'physics': 78, 'math': 87, 'python': 83},\n",
       " 'Cui': {'physics': 100, 'math': 86, 'python': 55},\n",
       " 'Huo': {'physics': 100, 'math': 92, 'python': 97},\n",
       " 'Bao': {'physics': 75, 'math': 60, 'python': 94},\n",
       " 'Pang': {'physics': 57, 'math': 56, 'python': 65}}"
      ]
     },
     "execution_count": 46,
     "metadata": {},
     "output_type": "execute_result"
    }
   ],
   "source": [
    "score_db"
   ]
  },
  {
   "cell_type": "code",
   "execution_count": 47,
   "id": "8678c06d-3dee-4de7-99c8-e70728e2d4c1",
   "metadata": {
    "tags": []
   },
   "outputs": [],
   "source": [
    "score_db = {name: {\"physics\": get_random_score(), \"math\": get_random_score(), \"python\": get_random_score()} for name in name_list}"
   ]
  },
  {
   "cell_type": "code",
   "execution_count": 48,
   "id": "c620ecae-9446-43dd-8447-844e397d392f",
   "metadata": {
    "tags": []
   },
   "outputs": [
    {
     "data": {
      "text/plain": [
       "{'Ke': {'physics': 47, 'math': 65, 'python': 100},\n",
       " 'Weng': {'physics': 87, 'math': 83, 'python': 64},\n",
       " 'Zhong': {'physics': 67, 'math': 50, 'python': 45},\n",
       " 'Tou': {'physics': 78, 'math': 80, 'python': 100},\n",
       " 'Hao': {'physics': 100, 'math': 50, 'python': 61},\n",
       " 'Dong': {'physics': 96, 'math': 81, 'python': 100},\n",
       " 'Sheng': {'physics': 82, 'math': 37, 'python': 60},\n",
       " 'Ni': {'physics': 94, 'math': 94, 'python': 72},\n",
       " 'Gao': {'physics': 100, 'math': 59, 'python': 100},\n",
       " 'Du': {'physics': 82, 'math': 89, 'python': 58},\n",
       " 'Zhou': {'physics': 44, 'math': 81, 'python': 70},\n",
       " 'Tong': {'physics': 75, 'math': 100, 'python': 81},\n",
       " 'Xiao': {'physics': 92, 'math': 95, 'python': 70},\n",
       " 'Zhang': {'physics': 93, 'math': 83, 'python': 57},\n",
       " 'Fang': {'physics': 85, 'math': 84, 'python': 55},\n",
       " 'Tan': {'physics': 33, 'math': 61, 'python': 54},\n",
       " 'Che': {'physics': 100, 'math': 70, 'python': 59},\n",
       " 'Yuan': {'physics': 79, 'math': 87, 'python': 91},\n",
       " 'Lian': {'physics': 79, 'math': 66, 'python': 77},\n",
       " 'Qin': {'physics': 67, 'math': 68, 'python': 75},\n",
       " 'Luo': {'physics': 96, 'math': 85, 'python': 84},\n",
       " 'Bai': {'physics': 66, 'math': 73, 'python': 69},\n",
       " 'Ban': {'physics': 97, 'math': 92, 'python': 61},\n",
       " 'Qian': {'physics': 89, 'math': 100, 'python': 78},\n",
       " 'Wu': {'physics': 48, 'math': 98, 'python': 14},\n",
       " 'Jiao': {'physics': 68, 'math': 84, 'python': 100},\n",
       " 'He': {'physics': 78, 'math': 55, 'python': 85},\n",
       " 'Mu': {'physics': 81, 'math': 75, 'python': 97},\n",
       " 'Ling': {'physics': 84, 'math': 61, 'python': 94},\n",
       " 'Lei': {'physics': 88, 'math': 49, 'python': 52},\n",
       " 'Tang': {'physics': 83, 'math': 86, 'python': 67},\n",
       " 'Gu': {'physics': 97, 'math': 70, 'python': 100},\n",
       " 'Mi': {'physics': 59, 'math': 79, 'python': 43},\n",
       " 'Zou': {'physics': 79, 'math': 95, 'python': 75},\n",
       " 'Han': {'physics': 71, 'math': 82, 'python': 67},\n",
       " 'Tian': {'physics': 79, 'math': 64, 'python': 80},\n",
       " 'Min': {'physics': 48, 'math': 52, 'python': 78},\n",
       " 'Bian': {'physics': 91, 'math': 79, 'python': 68},\n",
       " 'Chu': {'physics': 100, 'math': 37, 'python': 98},\n",
       " 'Jie': {'physics': 82, 'math': 53, 'python': 96},\n",
       " 'Teng': {'physics': 65, 'math': 51, 'python': 82},\n",
       " 'Ma': {'physics': 95, 'math': 81, 'python': 100},\n",
       " 'Zan': {'physics': 71, 'math': 78, 'python': 79},\n",
       " 'Diao': {'physics': 77, 'math': 72, 'python': 59},\n",
       " 'Shui': {'physics': 55, 'math': 100, 'python': 54},\n",
       " 'Shao': {'physics': 57, 'math': 92, 'python': 61},\n",
       " 'Miao': {'physics': 51, 'math': 83, 'python': 81},\n",
       " 'Lou': {'physics': 69, 'math': 52, 'python': 48},\n",
       " 'Hang': {'physics': 78, 'math': 64, 'python': 49},\n",
       " 'Niu': {'physics': 69, 'math': 50, 'python': 100},\n",
       " 'Zhao': {'physics': 75, 'math': 69, 'python': 84},\n",
       " 'Hua': {'physics': 88, 'math': 72, 'python': 85},\n",
       " 'Liang': {'physics': 74, 'math': 66, 'python': 76},\n",
       " 'Jia': {'physics': 42, 'math': 80, 'python': 72},\n",
       " 'Sun': {'physics': 73, 'math': 66, 'python': 84},\n",
       " 'Lu': {'physics': 59, 'math': 83, 'python': 81},\n",
       " 'Zuo': {'physics': 58, 'math': 96, 'python': 75},\n",
       " 'Rui': {'physics': 83, 'math': 83, 'python': 98},\n",
       " 'Qiang': {'physics': 74, 'math': 56, 'python': 59},\n",
       " 'Shi': {'physics': 53, 'math': 85, 'python': 100},\n",
       " 'Jin': {'physics': 34, 'math': 78, 'python': 96},\n",
       " 'Jiang': {'physics': 77, 'math': 70, 'python': 79},\n",
       " 'Zhen': {'physics': 58, 'math': 47, 'python': 83},\n",
       " 'Ren': {'physics': 93, 'math': 75, 'python': 75},\n",
       " 'Li': {'physics': 77, 'math': 77, 'python': 100},\n",
       " 'Ding': {'physics': 82, 'math': 74, 'python': 100},\n",
       " 'Rong': {'physics': 82, 'math': 44, 'python': 68},\n",
       " 'Shen': {'physics': 67, 'math': 81, 'python': 89},\n",
       " 'Lin': {'physics': 100, 'math': 100, 'python': 69},\n",
       " 'Guan': {'physics': 100, 'math': 90, 'python': 71},\n",
       " 'Ji': {'physics': 68, 'math': 70, 'python': 65},\n",
       " 'Song': {'physics': 100, 'math': 69, 'python': 84},\n",
       " 'Fan': {'physics': 48, 'math': 49, 'python': 92},\n",
       " 'Yu': {'physics': 49, 'math': 61, 'python': 59},\n",
       " 'Yi': {'physics': 56, 'math': 84, 'python': 100},\n",
       " 'Quan': {'physics': 64, 'math': 78, 'python': 77},\n",
       " 'Ning': {'physics': 82, 'math': 71, 'python': 79},\n",
       " 'Zhu': {'physics': 77, 'math': 79, 'python': 66},\n",
       " 'Xu': {'physics': 84, 'math': 92, 'python': 97},\n",
       " 'Zhan': {'physics': 39, 'math': 57, 'python': 76},\n",
       " 'Lv': {'physics': 72, 'math': 84, 'python': 67},\n",
       " 'Zheng': {'physics': 78, 'math': 61, 'python': 94},\n",
       " 'Le': {'physics': 85, 'math': 68, 'python': 90},\n",
       " 'Shan': {'physics': 53, 'math': 46, 'python': 85},\n",
       " 'Cheng': {'physics': 64, 'math': 87, 'python': 85},\n",
       " 'Chang': {'physics': 74, 'math': 46, 'python': 83},\n",
       " 'Dou': {'physics': 66, 'math': 91, 'python': 78},\n",
       " 'Yun': {'physics': 77, 'math': 97, 'python': 100},\n",
       " 'Pi': {'physics': 70, 'math': 89, 'python': 74},\n",
       " 'Kui': {'physics': 62, 'math': 87, 'python': 100},\n",
       " 'Yao': {'physics': 86, 'math': 53, 'python': 68},\n",
       " 'Ping': {'physics': 47, 'math': 79, 'python': 90},\n",
       " 'Yin': {'physics': 92, 'math': 78, 'python': 100},\n",
       " 'Wan': {'physics': 46, 'math': 67, 'python': 64},\n",
       " 'You': {'physics': 56, 'math': 95, 'python': 77},\n",
       " 'Pan': {'physics': 84, 'math': 78, 'python': 80},\n",
       " 'Xi': {'physics': 66, 'math': 72, 'python': 60},\n",
       " 'Guo': {'physics': 60, 'math': 83, 'python': 61},\n",
       " 'Meng': {'physics': 63, 'math': 95, 'python': 100},\n",
       " 'Cai': {'physics': 64, 'math': 57, 'python': 70},\n",
       " 'Mo': {'physics': 52, 'math': 74, 'python': 27},\n",
       " 'Su': {'physics': 82, 'math': 67, 'python': 100},\n",
       " 'Duan': {'physics': 69, 'math': 84, 'python': 91},\n",
       " 'Di': {'physics': 82, 'math': 79, 'python': 77},\n",
       " 'Shu': {'physics': 87, 'math': 95, 'python': 68},\n",
       " 'Xuan': {'physics': 97, 'math': 70, 'python': 88},\n",
       " 'Mao': {'physics': 90, 'math': 68, 'python': 75},\n",
       " 'Zu': {'physics': 74, 'math': 73, 'python': 72},\n",
       " 'Bo': {'physics': 100, 'math': 67, 'python': 90},\n",
       " 'Fu': {'physics': 79, 'math': 68, 'python': 80},\n",
       " 'Ge': {'physics': 37, 'math': 63, 'python': 74},\n",
       " 'Qi': {'physics': 74, 'math': 66, 'python': 100},\n",
       " 'Hui': {'physics': 45, 'math': 83, 'python': 87},\n",
       " 'Pei': {'physics': 71, 'math': 50, 'python': 86},\n",
       " 'Ying': {'physics': 95, 'math': 76, 'python': 38},\n",
       " 'Hou': {'physics': 81, 'math': 22, 'python': 100},\n",
       " 'Hong': {'physics': 100, 'math': 86, 'python': 71},\n",
       " 'Mou': {'physics': 69, 'math': 62, 'python': 86},\n",
       " 'Gan': {'physics': 100, 'math': 95, 'python': 80},\n",
       " 'Xia': {'physics': 57, 'math': 87, 'python': 100},\n",
       " 'Ba': {'physics': 40, 'math': 57, 'python': 67},\n",
       " 'Xie': {'physics': 73, 'math': 55, 'python': 68},\n",
       " 'Luan': {'physics': 44, 'math': 100, 'python': 75},\n",
       " 'Chen': {'physics': 58, 'math': 62, 'python': 49},\n",
       " 'Zang': {'physics': 100, 'math': 67, 'python': 100},\n",
       " 'Bi': {'physics': 83, 'math': 63, 'python': 66},\n",
       " 'Dan': {'physics': 52, 'math': 70, 'python': 67},\n",
       " 'Xiong': {'physics': 100, 'math': 92, 'python': 66},\n",
       " 'Lan': {'physics': 84, 'math': 76, 'python': 79},\n",
       " 'Ming': {'physics': 43, 'math': 74, 'python': 65},\n",
       " 'Hu': {'physics': 84, 'math': 67, 'python': 96},\n",
       " 'Feng': {'physics': 81, 'math': 50, 'python': 64},\n",
       " 'Cen': {'physics': 83, 'math': 76, 'python': 55},\n",
       " 'Gong': {'physics': 80, 'math': 85, 'python': 59},\n",
       " 'Zhi': {'physics': 89, 'math': 100, 'python': 83},\n",
       " 'Bei': {'physics': 84, 'math': 96, 'python': 76},\n",
       " 'Mei': {'physics': 90, 'math': 77, 'python': 60},\n",
       " 'Yan': {'physics': 97, 'math': 89, 'python': 49},\n",
       " 'Dai': {'physics': 100, 'math': 83, 'python': 38},\n",
       " 'Kang': {'physics': 100, 'math': 64, 'python': 85},\n",
       " 'Ben': {'physics': 59, 'math': 56, 'python': 71},\n",
       " 'Tao': {'physics': 79, 'math': 25, 'python': 55},\n",
       " 'Xue': {'physics': 85, 'math': 72, 'python': 85},\n",
       " 'Chou': {'physics': 76, 'math': 87, 'python': 59},\n",
       " 'An': {'physics': 80, 'math': 85, 'python': 84},\n",
       " 'Deng': {'physics': 60, 'math': 33, 'python': 86},\n",
       " 'Zong': {'physics': 74, 'math': 93, 'python': 92},\n",
       " 'Bing': {'physics': 79, 'math': 93, 'python': 98},\n",
       " 'Qu': {'physics': 76, 'math': 85, 'python': 70},\n",
       " 'Xun': {'physics': 88, 'math': 75, 'python': 40},\n",
       " 'Lang': {'physics': 100, 'math': 59, 'python': 51},\n",
       " 'Fei': {'physics': 56, 'math': 62, 'python': 61},\n",
       " 'Jing': {'physics': 92, 'math': 91, 'python': 80},\n",
       " 'Peng': {'physics': 75, 'math': 68, 'python': 46},\n",
       " 'Wei': {'physics': 69, 'math': 68, 'python': 89},\n",
       " 'Xiang': {'physics': 49, 'math': 86, 'python': 67},\n",
       " 'Ruan': {'physics': 100, 'math': 43, 'python': 84},\n",
       " 'Xing': {'physics': 74, 'math': 67, 'python': 85},\n",
       " 'Wang': {'physics': 40, 'math': 100, 'python': 70},\n",
       " 'Cao': {'physics': 97, 'math': 69, 'python': 77},\n",
       " 'Liu': {'physics': 58, 'math': 88, 'python': 79},\n",
       " 'Yang': {'physics': 81, 'math': 68, 'python': 100},\n",
       " 'Kong': {'physics': 58, 'math': 82, 'python': 100},\n",
       " 'Huang': {'physics': 85, 'math': 84, 'python': 100},\n",
       " 'Qiu': {'physics': 96, 'math': 68, 'python': 79},\n",
       " 'Cui': {'physics': 76, 'math': 83, 'python': 86},\n",
       " 'Huo': {'physics': 100, 'math': 100, 'python': 89},\n",
       " 'Bao': {'physics': 75, 'math': 44, 'python': 67},\n",
       " 'Pang': {'physics': 64, 'math': 71, 'python': 50}}"
      ]
     },
     "execution_count": 48,
     "metadata": {},
     "output_type": "execute_result"
    }
   ],
   "source": [
    "score_db"
   ]
  },
  {
   "cell_type": "code",
   "execution_count": 51,
   "id": "2d1abb9e-2c59-4f86-b0d0-ea0cac0eb061",
   "metadata": {
    "tags": []
   },
   "outputs": [
    {
     "name": "stdin",
     "output_type": "stream",
     "text": [
      "please input a name:  Chen\n"
     ]
    },
    {
     "name": "stdout",
     "output_type": "stream",
     "text": [
      "Physics: 58\n",
      "Math: 62\n",
      "Python: 49\n",
      "Total: 169\n"
     ]
    }
   ],
   "source": [
    "name = input(\"please input a name: \")\n",
    "print(f\"Physics: {score_db[name]['physics']}\")\n",
    "print(f\"Math: {score_db[name]['math']}\")\n",
    "print(f\"Python: {score_db[name]['python']}\")\n",
    "print(f\"Total: {score_db[name]['physics'] + score_db[name]['math'] + score_db[name]['python']}\")"
   ]
  },
  {
   "cell_type": "code",
   "execution_count": 52,
   "id": "7d9e69bb-54cf-4617-8a04-973bc7197380",
   "metadata": {
    "tags": []
   },
   "outputs": [],
   "source": [
    "import json\n",
    "\n",
    "with open(\"C:\\\\Users\\\\sidney\\\\Desktop\\\\黄伟杰\\\\score_db.json\", \"w\") as f:\n",
    "    json.dump(score_db, f)"
   ]
  },
  {
   "cell_type": "code",
   "execution_count": 53,
   "id": "428a6943-7a96-430e-9ec9-ddc12782c124",
   "metadata": {
    "tags": []
   },
   "outputs": [],
   "source": [
    "import json\n",
    "\n",
    "with open(\"C:\\\\Users\\\\sidney\\\\Desktop\\\\黄伟杰\\\\score_db.json\", \"r\") as f:\n",
    "    score_db = json.load(f)"
   ]
  },
  {
   "cell_type": "code",
   "execution_count": 54,
   "id": "58f99e43-adcd-45c6-8775-77a9e4445c0f",
   "metadata": {
    "tags": []
   },
   "outputs": [
    {
     "data": {
      "text/plain": [
       "{'Ke': {'physics': 47, 'math': 65, 'python': 100},\n",
       " 'Weng': {'physics': 87, 'math': 83, 'python': 64},\n",
       " 'Zhong': {'physics': 67, 'math': 50, 'python': 45},\n",
       " 'Tou': {'physics': 78, 'math': 80, 'python': 100},\n",
       " 'Hao': {'physics': 100, 'math': 50, 'python': 61},\n",
       " 'Dong': {'physics': 96, 'math': 81, 'python': 100},\n",
       " 'Sheng': {'physics': 82, 'math': 37, 'python': 60},\n",
       " 'Ni': {'physics': 94, 'math': 94, 'python': 72},\n",
       " 'Gao': {'physics': 100, 'math': 59, 'python': 100},\n",
       " 'Du': {'physics': 82, 'math': 89, 'python': 58},\n",
       " 'Zhou': {'physics': 44, 'math': 81, 'python': 70},\n",
       " 'Tong': {'physics': 75, 'math': 100, 'python': 81},\n",
       " 'Xiao': {'physics': 92, 'math': 95, 'python': 70},\n",
       " 'Zhang': {'physics': 93, 'math': 83, 'python': 57},\n",
       " 'Fang': {'physics': 85, 'math': 84, 'python': 55},\n",
       " 'Tan': {'physics': 33, 'math': 61, 'python': 54},\n",
       " 'Che': {'physics': 100, 'math': 70, 'python': 59},\n",
       " 'Yuan': {'physics': 79, 'math': 87, 'python': 91},\n",
       " 'Lian': {'physics': 79, 'math': 66, 'python': 77},\n",
       " 'Qin': {'physics': 67, 'math': 68, 'python': 75},\n",
       " 'Luo': {'physics': 96, 'math': 85, 'python': 84},\n",
       " 'Bai': {'physics': 66, 'math': 73, 'python': 69},\n",
       " 'Ban': {'physics': 97, 'math': 92, 'python': 61},\n",
       " 'Qian': {'physics': 89, 'math': 100, 'python': 78},\n",
       " 'Wu': {'physics': 48, 'math': 98, 'python': 14},\n",
       " 'Jiao': {'physics': 68, 'math': 84, 'python': 100},\n",
       " 'He': {'physics': 78, 'math': 55, 'python': 85},\n",
       " 'Mu': {'physics': 81, 'math': 75, 'python': 97},\n",
       " 'Ling': {'physics': 84, 'math': 61, 'python': 94},\n",
       " 'Lei': {'physics': 88, 'math': 49, 'python': 52},\n",
       " 'Tang': {'physics': 83, 'math': 86, 'python': 67},\n",
       " 'Gu': {'physics': 97, 'math': 70, 'python': 100},\n",
       " 'Mi': {'physics': 59, 'math': 79, 'python': 43},\n",
       " 'Zou': {'physics': 79, 'math': 95, 'python': 75},\n",
       " 'Han': {'physics': 71, 'math': 82, 'python': 67},\n",
       " 'Tian': {'physics': 79, 'math': 64, 'python': 80},\n",
       " 'Min': {'physics': 48, 'math': 52, 'python': 78},\n",
       " 'Bian': {'physics': 91, 'math': 79, 'python': 68},\n",
       " 'Chu': {'physics': 100, 'math': 37, 'python': 98},\n",
       " 'Jie': {'physics': 82, 'math': 53, 'python': 96},\n",
       " 'Teng': {'physics': 65, 'math': 51, 'python': 82},\n",
       " 'Ma': {'physics': 95, 'math': 81, 'python': 100},\n",
       " 'Zan': {'physics': 71, 'math': 78, 'python': 79},\n",
       " 'Diao': {'physics': 77, 'math': 72, 'python': 59},\n",
       " 'Shui': {'physics': 55, 'math': 100, 'python': 54},\n",
       " 'Shao': {'physics': 57, 'math': 92, 'python': 61},\n",
       " 'Miao': {'physics': 51, 'math': 83, 'python': 81},\n",
       " 'Lou': {'physics': 69, 'math': 52, 'python': 48},\n",
       " 'Hang': {'physics': 78, 'math': 64, 'python': 49},\n",
       " 'Niu': {'physics': 69, 'math': 50, 'python': 100},\n",
       " 'Zhao': {'physics': 75, 'math': 69, 'python': 84},\n",
       " 'Hua': {'physics': 88, 'math': 72, 'python': 85},\n",
       " 'Liang': {'physics': 74, 'math': 66, 'python': 76},\n",
       " 'Jia': {'physics': 42, 'math': 80, 'python': 72},\n",
       " 'Sun': {'physics': 73, 'math': 66, 'python': 84},\n",
       " 'Lu': {'physics': 59, 'math': 83, 'python': 81},\n",
       " 'Zuo': {'physics': 58, 'math': 96, 'python': 75},\n",
       " 'Rui': {'physics': 83, 'math': 83, 'python': 98},\n",
       " 'Qiang': {'physics': 74, 'math': 56, 'python': 59},\n",
       " 'Shi': {'physics': 53, 'math': 85, 'python': 100},\n",
       " 'Jin': {'physics': 34, 'math': 78, 'python': 96},\n",
       " 'Jiang': {'physics': 77, 'math': 70, 'python': 79},\n",
       " 'Zhen': {'physics': 58, 'math': 47, 'python': 83},\n",
       " 'Ren': {'physics': 93, 'math': 75, 'python': 75},\n",
       " 'Li': {'physics': 77, 'math': 77, 'python': 100},\n",
       " 'Ding': {'physics': 82, 'math': 74, 'python': 100},\n",
       " 'Rong': {'physics': 82, 'math': 44, 'python': 68},\n",
       " 'Shen': {'physics': 67, 'math': 81, 'python': 89},\n",
       " 'Lin': {'physics': 100, 'math': 100, 'python': 69},\n",
       " 'Guan': {'physics': 100, 'math': 90, 'python': 71},\n",
       " 'Ji': {'physics': 68, 'math': 70, 'python': 65},\n",
       " 'Song': {'physics': 100, 'math': 69, 'python': 84},\n",
       " 'Fan': {'physics': 48, 'math': 49, 'python': 92},\n",
       " 'Yu': {'physics': 49, 'math': 61, 'python': 59},\n",
       " 'Yi': {'physics': 56, 'math': 84, 'python': 100},\n",
       " 'Quan': {'physics': 64, 'math': 78, 'python': 77},\n",
       " 'Ning': {'physics': 82, 'math': 71, 'python': 79},\n",
       " 'Zhu': {'physics': 77, 'math': 79, 'python': 66},\n",
       " 'Xu': {'physics': 84, 'math': 92, 'python': 97},\n",
       " 'Zhan': {'physics': 39, 'math': 57, 'python': 76},\n",
       " 'Lv': {'physics': 72, 'math': 84, 'python': 67},\n",
       " 'Zheng': {'physics': 78, 'math': 61, 'python': 94},\n",
       " 'Le': {'physics': 85, 'math': 68, 'python': 90},\n",
       " 'Shan': {'physics': 53, 'math': 46, 'python': 85},\n",
       " 'Cheng': {'physics': 64, 'math': 87, 'python': 85},\n",
       " 'Chang': {'physics': 74, 'math': 46, 'python': 83},\n",
       " 'Dou': {'physics': 66, 'math': 91, 'python': 78},\n",
       " 'Yun': {'physics': 77, 'math': 97, 'python': 100},\n",
       " 'Pi': {'physics': 70, 'math': 89, 'python': 74},\n",
       " 'Kui': {'physics': 62, 'math': 87, 'python': 100},\n",
       " 'Yao': {'physics': 86, 'math': 53, 'python': 68},\n",
       " 'Ping': {'physics': 47, 'math': 79, 'python': 90},\n",
       " 'Yin': {'physics': 92, 'math': 78, 'python': 100},\n",
       " 'Wan': {'physics': 46, 'math': 67, 'python': 64},\n",
       " 'You': {'physics': 56, 'math': 95, 'python': 77},\n",
       " 'Pan': {'physics': 84, 'math': 78, 'python': 80},\n",
       " 'Xi': {'physics': 66, 'math': 72, 'python': 60},\n",
       " 'Guo': {'physics': 60, 'math': 83, 'python': 61},\n",
       " 'Meng': {'physics': 63, 'math': 95, 'python': 100},\n",
       " 'Cai': {'physics': 64, 'math': 57, 'python': 70},\n",
       " 'Mo': {'physics': 52, 'math': 74, 'python': 27},\n",
       " 'Su': {'physics': 82, 'math': 67, 'python': 100},\n",
       " 'Duan': {'physics': 69, 'math': 84, 'python': 91},\n",
       " 'Di': {'physics': 82, 'math': 79, 'python': 77},\n",
       " 'Shu': {'physics': 87, 'math': 95, 'python': 68},\n",
       " 'Xuan': {'physics': 97, 'math': 70, 'python': 88},\n",
       " 'Mao': {'physics': 90, 'math': 68, 'python': 75},\n",
       " 'Zu': {'physics': 74, 'math': 73, 'python': 72},\n",
       " 'Bo': {'physics': 100, 'math': 67, 'python': 90},\n",
       " 'Fu': {'physics': 79, 'math': 68, 'python': 80},\n",
       " 'Ge': {'physics': 37, 'math': 63, 'python': 74},\n",
       " 'Qi': {'physics': 74, 'math': 66, 'python': 100},\n",
       " 'Hui': {'physics': 45, 'math': 83, 'python': 87},\n",
       " 'Pei': {'physics': 71, 'math': 50, 'python': 86},\n",
       " 'Ying': {'physics': 95, 'math': 76, 'python': 38},\n",
       " 'Hou': {'physics': 81, 'math': 22, 'python': 100},\n",
       " 'Hong': {'physics': 100, 'math': 86, 'python': 71},\n",
       " 'Mou': {'physics': 69, 'math': 62, 'python': 86},\n",
       " 'Gan': {'physics': 100, 'math': 95, 'python': 80},\n",
       " 'Xia': {'physics': 57, 'math': 87, 'python': 100},\n",
       " 'Ba': {'physics': 40, 'math': 57, 'python': 67},\n",
       " 'Xie': {'physics': 73, 'math': 55, 'python': 68},\n",
       " 'Luan': {'physics': 44, 'math': 100, 'python': 75},\n",
       " 'Chen': {'physics': 58, 'math': 62, 'python': 49},\n",
       " 'Zang': {'physics': 100, 'math': 67, 'python': 100},\n",
       " 'Bi': {'physics': 83, 'math': 63, 'python': 66},\n",
       " 'Dan': {'physics': 52, 'math': 70, 'python': 67},\n",
       " 'Xiong': {'physics': 100, 'math': 92, 'python': 66},\n",
       " 'Lan': {'physics': 84, 'math': 76, 'python': 79},\n",
       " 'Ming': {'physics': 43, 'math': 74, 'python': 65},\n",
       " 'Hu': {'physics': 84, 'math': 67, 'python': 96},\n",
       " 'Feng': {'physics': 81, 'math': 50, 'python': 64},\n",
       " 'Cen': {'physics': 83, 'math': 76, 'python': 55},\n",
       " 'Gong': {'physics': 80, 'math': 85, 'python': 59},\n",
       " 'Zhi': {'physics': 89, 'math': 100, 'python': 83},\n",
       " 'Bei': {'physics': 84, 'math': 96, 'python': 76},\n",
       " 'Mei': {'physics': 90, 'math': 77, 'python': 60},\n",
       " 'Yan': {'physics': 97, 'math': 89, 'python': 49},\n",
       " 'Dai': {'physics': 100, 'math': 83, 'python': 38},\n",
       " 'Kang': {'physics': 100, 'math': 64, 'python': 85},\n",
       " 'Ben': {'physics': 59, 'math': 56, 'python': 71},\n",
       " 'Tao': {'physics': 79, 'math': 25, 'python': 55},\n",
       " 'Xue': {'physics': 85, 'math': 72, 'python': 85},\n",
       " 'Chou': {'physics': 76, 'math': 87, 'python': 59},\n",
       " 'An': {'physics': 80, 'math': 85, 'python': 84},\n",
       " 'Deng': {'physics': 60, 'math': 33, 'python': 86},\n",
       " 'Zong': {'physics': 74, 'math': 93, 'python': 92},\n",
       " 'Bing': {'physics': 79, 'math': 93, 'python': 98},\n",
       " 'Qu': {'physics': 76, 'math': 85, 'python': 70},\n",
       " 'Xun': {'physics': 88, 'math': 75, 'python': 40},\n",
       " 'Lang': {'physics': 100, 'math': 59, 'python': 51},\n",
       " 'Fei': {'physics': 56, 'math': 62, 'python': 61},\n",
       " 'Jing': {'physics': 92, 'math': 91, 'python': 80},\n",
       " 'Peng': {'physics': 75, 'math': 68, 'python': 46},\n",
       " 'Wei': {'physics': 69, 'math': 68, 'python': 89},\n",
       " 'Xiang': {'physics': 49, 'math': 86, 'python': 67},\n",
       " 'Ruan': {'physics': 100, 'math': 43, 'python': 84},\n",
       " 'Xing': {'physics': 74, 'math': 67, 'python': 85},\n",
       " 'Wang': {'physics': 40, 'math': 100, 'python': 70},\n",
       " 'Cao': {'physics': 97, 'math': 69, 'python': 77},\n",
       " 'Liu': {'physics': 58, 'math': 88, 'python': 79},\n",
       " 'Yang': {'physics': 81, 'math': 68, 'python': 100},\n",
       " 'Kong': {'physics': 58, 'math': 82, 'python': 100},\n",
       " 'Huang': {'physics': 85, 'math': 84, 'python': 100},\n",
       " 'Qiu': {'physics': 96, 'math': 68, 'python': 79},\n",
       " 'Cui': {'physics': 76, 'math': 83, 'python': 86},\n",
       " 'Huo': {'physics': 100, 'math': 100, 'python': 89},\n",
       " 'Bao': {'physics': 75, 'math': 44, 'python': 67},\n",
       " 'Pang': {'physics': 64, 'math': 71, 'python': 50}}"
      ]
     },
     "execution_count": 54,
     "metadata": {},
     "output_type": "execute_result"
    }
   ],
   "source": [
    "score_db"
   ]
  },
  {
   "cell_type": "markdown",
   "id": "5fb05f60-705c-42b1-a694-98e6ef8e3820",
   "metadata": {},
   "source": [
    "作业：按照总分来排序输出"
   ]
  },
  {
   "cell_type": "code",
   "execution_count": null,
   "id": "be818ddd-0304-40ab-b8f3-38f8c710312b",
   "metadata": {},
   "outputs": [],
   "source": []
  }
 ],
 "metadata": {
  "kernelspec": {
   "display_name": "Python 3 (ipykernel)",
   "language": "python",
   "name": "python3"
  },
  "language_info": {
   "codemirror_mode": {
    "name": "ipython",
    "version": 3
   },
   "file_extension": ".py",
   "mimetype": "text/x-python",
   "name": "python",
   "nbconvert_exporter": "python",
   "pygments_lexer": "ipython3",
   "version": "3.11.4"
  }
 },
 "nbformat": 4,
 "nbformat_minor": 5
}
