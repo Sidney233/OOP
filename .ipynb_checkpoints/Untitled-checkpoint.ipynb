{
 "cells": [
  {
   "cell_type": "code",
   "execution_count": 2,
   "id": "d4674e4e-ba5d-480b-8bef-e1de464bfd1c",
   "metadata": {
    "tags": []
   },
   "outputs": [
    {
     "data": {
      "text/plain": [
       "{'a': 1, 'b': 0}"
      ]
     },
     "execution_count": 2,
     "metadata": {},
     "output_type": "execute_result"
    }
   ],
   "source": [
    "d = dict()\n",
    "d['a'] = 1\n",
    "d.setdefault('a', 0)\n",
    "d.setdefault('b', 0)\n",
    "d"
   ]
  },
  {
   "cell_type": "code",
   "execution_count": 9,
   "id": "cc3ca14e-27bd-477f-bc5a-afd9f0dfd87c",
   "metadata": {
    "tags": []
   },
   "outputs": [],
   "source": [
    "text = '''\n",
    "Google today released the open source version of the differential privacy library used in some its core products, such as Google Maps. Any organization or developer can now check out the library on GitHub.\n",
    "\n",
    "Differential privacy limits the algorithms used to publish aggregate information about a statistical database. Whether you are a city planner, small business owner, or software developer, chances are you want to gain insights from the data of your citizens, customers, or users. But you don’t want to lose their trust in the process. Differentially private data analysis enables organizations to learn from the majority of their data without allowing any single individual’s data to be distinguished or re-identified.\n",
    "\n",
    "“If you are a health researcher, you may want to compare the average amount of time patients remain admitted across various hospitals in order to determine if there are differences in care,” Google product manager Miguel Guevara explains. “Differential privacy is a high-assurance, analytic means of ensuring that use cases like this are addressed in a privacy-preserving manner.”\n",
    "Differential privacy library features\n",
    "\n",
    "Google promises its library is easy for developers to deploy. It can help you perform functions that are difficult to execute from scratch, “like automatically calculating bounds on user contributions,” Guevera says. Key features include:\n",
    "\n",
    "    Statistical functions: Most common data science operations (counts, sums, averages, medians, and percentiles) are supported.\n",
    "    Rigorous testing: Besides an extensive test suite, an extensible “Stochastic Differential Privacy Model Checker library” helps prevent mistakes.\n",
    "    Ready to use: A PostgreSQL extension, along with common recipes, is included.\n",
    "    Modular: The library can be extended to include other functionalities, such as additional mechanisms, aggregation functions, or privacy budget management.\n",
    "\n",
    "This isn’t Google’s first differential privacy rodeo, but the company has been particularly busy in the space this year. In March, Google released TensorFlow Privacy and TensorFlow Federated. In June, the company open-sourced Private Join and Compute, which gives companies data insights while preserving privacy. To learn more about Google’s approach, check out the team’s technical paper on arXiv.\n",
    "'''"
   ]
  },
  {
   "cell_type": "code",
   "execution_count": 12,
   "id": "1af511b2-486f-4646-ba80-e6daed782b63",
   "metadata": {
    "tags": []
   },
   "outputs": [
    {
     "data": {
      "text/plain": [
       "['google',\n",
       " 'today',\n",
       " 'released',\n",
       " 'the',\n",
       " 'open',\n",
       " 'source',\n",
       " 'version',\n",
       " 'of',\n",
       " 'the',\n",
       " 'differential',\n",
       " 'privacy',\n",
       " 'library',\n",
       " 'used',\n",
       " 'in',\n",
       " 'some',\n",
       " 'its',\n",
       " 'core',\n",
       " 'products',\n",
       " 'such',\n",
       " 'as',\n",
       " 'google',\n",
       " 'maps',\n",
       " 'any',\n",
       " 'organization',\n",
       " 'or',\n",
       " 'developer',\n",
       " 'can',\n",
       " 'now',\n",
       " 'check',\n",
       " 'out',\n",
       " 'the',\n",
       " 'library',\n",
       " 'on',\n",
       " 'githubdifferential',\n",
       " 'privacy',\n",
       " 'limits',\n",
       " 'the',\n",
       " 'algorithms',\n",
       " 'used',\n",
       " 'to',\n",
       " 'publish',\n",
       " 'aggregate',\n",
       " 'information',\n",
       " 'about',\n",
       " 'a',\n",
       " 'statistical',\n",
       " 'database',\n",
       " 'whether',\n",
       " 'you',\n",
       " 'are',\n",
       " 'a',\n",
       " 'city',\n",
       " 'planner',\n",
       " 'small',\n",
       " 'business',\n",
       " 'owner',\n",
       " 'or',\n",
       " 'software',\n",
       " 'developer',\n",
       " 'chances',\n",
       " 'are',\n",
       " 'you',\n",
       " 'want',\n",
       " 'to',\n",
       " 'gain',\n",
       " 'insights',\n",
       " 'from',\n",
       " 'the',\n",
       " 'data',\n",
       " 'of',\n",
       " 'your',\n",
       " 'citizens',\n",
       " 'customers',\n",
       " 'or',\n",
       " 'users',\n",
       " 'but',\n",
       " 'you',\n",
       " 'don’t',\n",
       " 'want',\n",
       " 'to',\n",
       " 'lose',\n",
       " 'their',\n",
       " 'trust',\n",
       " 'in',\n",
       " 'the',\n",
       " 'process',\n",
       " 'differentially',\n",
       " 'private',\n",
       " 'data',\n",
       " 'analysis',\n",
       " 'enables',\n",
       " 'organizations',\n",
       " 'to',\n",
       " 'learn',\n",
       " 'from',\n",
       " 'the',\n",
       " 'majority',\n",
       " 'of',\n",
       " 'their',\n",
       " 'data',\n",
       " 'without',\n",
       " 'allowing',\n",
       " 'any',\n",
       " 'single',\n",
       " 'individual’s',\n",
       " 'data',\n",
       " 'to',\n",
       " 'be',\n",
       " 'distinguished',\n",
       " 'or',\n",
       " 're-identified“if',\n",
       " 'you',\n",
       " 'are',\n",
       " 'a',\n",
       " 'health',\n",
       " 'researcher',\n",
       " 'you',\n",
       " 'may',\n",
       " 'want',\n",
       " 'to',\n",
       " 'compare',\n",
       " 'the',\n",
       " 'average',\n",
       " 'amount',\n",
       " 'of',\n",
       " 'time',\n",
       " 'patients',\n",
       " 'remain',\n",
       " 'admitted',\n",
       " 'across',\n",
       " 'various',\n",
       " 'hospitals',\n",
       " 'in',\n",
       " 'order',\n",
       " 'to',\n",
       " 'determine',\n",
       " 'if',\n",
       " 'there',\n",
       " 'are',\n",
       " 'differences',\n",
       " 'in',\n",
       " 'care”',\n",
       " 'google',\n",
       " 'product',\n",
       " 'manager',\n",
       " 'miguel',\n",
       " 'guevara',\n",
       " 'explains',\n",
       " '“differential',\n",
       " 'privacy',\n",
       " 'is',\n",
       " 'a',\n",
       " 'high-assurance',\n",
       " 'analytic',\n",
       " 'means',\n",
       " 'of',\n",
       " 'ensuring',\n",
       " 'that',\n",
       " 'use',\n",
       " 'cases',\n",
       " 'like',\n",
       " 'this',\n",
       " 'are',\n",
       " 'addressed',\n",
       " 'in',\n",
       " 'a',\n",
       " 'privacy-preserving',\n",
       " 'manner”differential',\n",
       " 'privacy',\n",
       " 'library',\n",
       " 'featuresgoogle',\n",
       " 'promises',\n",
       " 'its',\n",
       " 'library',\n",
       " 'is',\n",
       " 'easy',\n",
       " 'for',\n",
       " 'developers',\n",
       " 'to',\n",
       " 'deploy',\n",
       " 'it',\n",
       " 'can',\n",
       " 'help',\n",
       " 'you',\n",
       " 'perform',\n",
       " 'functions',\n",
       " 'that',\n",
       " 'are',\n",
       " 'difficult',\n",
       " 'to',\n",
       " 'execute',\n",
       " 'from',\n",
       " 'scratch',\n",
       " '“like',\n",
       " 'automatically',\n",
       " 'calculating',\n",
       " 'bounds',\n",
       " 'on',\n",
       " 'user',\n",
       " 'contributions”',\n",
       " 'guevera',\n",
       " 'says',\n",
       " 'key',\n",
       " 'features',\n",
       " 'include:',\n",
       " 'statistical',\n",
       " 'functions:',\n",
       " 'most',\n",
       " 'common',\n",
       " 'data',\n",
       " 'science',\n",
       " 'operations',\n",
       " 'counts',\n",
       " 'sums',\n",
       " 'averages',\n",
       " 'medians',\n",
       " 'and',\n",
       " 'percentiles',\n",
       " 'are',\n",
       " 'supported',\n",
       " 'rigorous',\n",
       " 'testing:',\n",
       " 'besides',\n",
       " 'an',\n",
       " 'extensive',\n",
       " 'test',\n",
       " 'suite',\n",
       " 'an',\n",
       " 'extensible',\n",
       " '“stochastic',\n",
       " 'differential',\n",
       " 'privacy',\n",
       " 'model',\n",
       " 'checker',\n",
       " 'library”',\n",
       " 'helps',\n",
       " 'prevent',\n",
       " 'mistakes',\n",
       " 'ready',\n",
       " 'to',\n",
       " 'use:',\n",
       " 'a',\n",
       " 'postgresql',\n",
       " 'extension',\n",
       " 'along',\n",
       " 'with',\n",
       " 'common',\n",
       " 'recipes',\n",
       " 'is',\n",
       " 'included',\n",
       " 'modular:',\n",
       " 'the',\n",
       " 'library',\n",
       " 'can',\n",
       " 'be',\n",
       " 'extended',\n",
       " 'to',\n",
       " 'include',\n",
       " 'other',\n",
       " 'functionalities',\n",
       " 'such',\n",
       " 'as',\n",
       " 'additional',\n",
       " 'mechanisms',\n",
       " 'aggregation',\n",
       " 'functions',\n",
       " 'or',\n",
       " 'privacy',\n",
       " 'budget',\n",
       " 'managementthis',\n",
       " 'isn’t',\n",
       " 'google’s',\n",
       " 'first',\n",
       " 'differential',\n",
       " 'privacy',\n",
       " 'rodeo',\n",
       " 'but',\n",
       " 'the',\n",
       " 'company',\n",
       " 'has',\n",
       " 'been',\n",
       " 'particularly',\n",
       " 'busy',\n",
       " 'in',\n",
       " 'the',\n",
       " 'space',\n",
       " 'this',\n",
       " 'year',\n",
       " 'in',\n",
       " 'march',\n",
       " 'google',\n",
       " 'released',\n",
       " 'tensorflow',\n",
       " 'privacy',\n",
       " 'and',\n",
       " 'tensorflow',\n",
       " 'federated',\n",
       " 'in',\n",
       " 'june',\n",
       " 'the',\n",
       " 'company',\n",
       " 'open-sourced',\n",
       " 'private',\n",
       " 'join',\n",
       " 'and',\n",
       " 'compute',\n",
       " 'which',\n",
       " 'gives',\n",
       " 'companies',\n",
       " 'data',\n",
       " 'insights',\n",
       " 'while',\n",
       " 'preserving',\n",
       " 'privacy',\n",
       " 'to',\n",
       " 'learn',\n",
       " 'more',\n",
       " 'about',\n",
       " 'google’s',\n",
       " 'approach',\n",
       " 'check',\n",
       " 'out',\n",
       " 'the',\n",
       " 'team’s',\n",
       " 'technical',\n",
       " 'paper',\n",
       " 'on',\n",
       " 'arxiv']"
      ]
     },
     "execution_count": 12,
     "metadata": {},
     "output_type": "execute_result"
    }
   ],
   "source": [
    "text = text.lower()\n",
    "for sep in \"\\n\\t.,\\\"\\'\\(\\)\":\n",
    "    text = text.replace(sep, \"\")\n",
    "words = text.split(\" \")\n",
    "words = [word for word in words if word != \"\"]\n",
    "words"
   ]
  },
  {
   "cell_type": "code",
   "execution_count": 1,
   "id": "c50a08da-b825-4655-8044-a57afc804a04",
   "metadata": {
    "tags": []
   },
   "outputs": [
    {
     "ename": "ValueError",
     "evalue": "too many values to unpack (expected 3)",
     "output_type": "error",
     "traceback": [
      "\u001b[1;31m---------------------------------------------------------------------------\u001b[0m",
      "\u001b[1;31mValueError\u001b[0m                                Traceback (most recent call last)",
      "Cell \u001b[1;32mIn[1], line 1\u001b[0m\n\u001b[1;32m----> 1\u001b[0m x,y,z \u001b[38;5;241m=\u001b[39m \u001b[38;5;241m1\u001b[39m,\u001b[38;5;241m2\u001b[39m, \u001b[38;5;241m3\u001b[39m, \u001b[38;5;241m4\u001b[39m\n",
      "\u001b[1;31mValueError\u001b[0m: too many values to unpack (expected 3)"
     ]
    }
   ],
   "source": [
    "x, y, z = 1, 2, 3, 4"
   ]
  },
  {
   "cell_type": "code",
   "execution_count": 3,
   "id": "54be470b-f8d3-4c86-ac56-9f9aff5333ec",
   "metadata": {},
   "outputs": [],
   "source": [
    "x, y, *z = 1, 2, 3, 4"
   ]
  },
  {
   "cell_type": "code",
   "execution_count": 5,
   "id": "6675e2c7-a3a4-4126-a26d-282c76057ef8",
   "metadata": {
    "tags": []
   },
   "outputs": [
    {
     "name": "stdout",
     "output_type": "stream",
     "text": [
      "[4] [4] [4]\n"
     ]
    }
   ],
   "source": [
    "x = y = z = [3]\n",
    "x[0] = 4\n",
    "print(x, y, z)"
   ]
  },
  {
   "cell_type": "code",
   "execution_count": 9,
   "id": "6ab39e0b-e536-4897-937c-3e856048bb91",
   "metadata": {
    "tags": []
   },
   "outputs": [],
   "source": [
    "x = [3]\n",
    "y = [3]\n"
   ]
  },
  {
   "cell_type": "code",
   "execution_count": 10,
   "id": "8b41df19-dfc8-4ec5-a0c1-51487a9cba80",
   "metadata": {
    "tags": []
   },
   "outputs": [
    {
     "data": {
      "text/plain": [
       "False"
      ]
     },
     "execution_count": 10,
     "metadata": {},
     "output_type": "execute_result"
    }
   ],
   "source": [
    "x is y"
   ]
  },
  {
   "cell_type": "code",
   "execution_count": 8,
   "id": "7bfe2f36-d348-469d-b5b5-dcf14377fba4",
   "metadata": {
    "tags": []
   },
   "outputs": [
    {
     "data": {
      "text/plain": [
       "True"
      ]
     },
     "execution_count": 8,
     "metadata": {},
     "output_type": "execute_result"
    }
   ],
   "source": [
    "x = 3\n",
    "y = 3\n",
    "x is y"
   ]
  },
  {
   "cell_type": "code",
   "execution_count": 11,
   "id": "79ada1b4-a65b-4027-bd8b-0a1895b4ec4e",
   "metadata": {
    "tags": []
   },
   "outputs": [
    {
     "data": {
      "text/plain": [
       "False"
      ]
     },
     "execution_count": 11,
     "metadata": {},
     "output_type": "execute_result"
    }
   ],
   "source": [
    "x = (3,)\n",
    "y = (3,)\n",
    "x is y"
   ]
  },
  {
   "cell_type": "code",
   "execution_count": 12,
   "id": "4b80c0e7-3908-4145-bae9-543ec67f66fd",
   "metadata": {
    "tags": []
   },
   "outputs": [
    {
     "data": {
      "text/plain": [
       "True"
      ]
     },
     "execution_count": 12,
     "metadata": {},
     "output_type": "execute_result"
    }
   ],
   "source": [
    "x = y = (3,)\n",
    "x is y"
   ]
  },
  {
   "cell_type": "code",
   "execution_count": 13,
   "id": "339e7808-eb0f-488e-a186-aea6784aa398",
   "metadata": {
    "tags": []
   },
   "outputs": [
    {
     "data": {
      "text/plain": [
       "True"
      ]
     },
     "execution_count": 13,
     "metadata": {},
     "output_type": "execute_result"
    }
   ],
   "source": [
    "bool([1])"
   ]
  },
  {
   "cell_type": "code",
   "execution_count": 15,
   "id": "d1d91fae-25f8-4df9-aed9-d04119d6525a",
   "metadata": {
    "tags": []
   },
   "outputs": [
    {
     "data": {
      "text/plain": [
       "False"
      ]
     },
     "execution_count": 15,
     "metadata": {},
     "output_type": "execute_result"
    }
   ],
   "source": [
    "bool([])"
   ]
  },
  {
   "cell_type": "code",
   "execution_count": 16,
   "id": "0129c975-cda0-446d-9186-8ed6dc298543",
   "metadata": {
    "tags": []
   },
   "outputs": [
    {
     "data": {
      "text/plain": [
       "True"
      ]
     },
     "execution_count": 16,
     "metadata": {},
     "output_type": "execute_result"
    }
   ],
   "source": [
    "bool(\"s\") is True"
   ]
  },
  {
   "cell_type": "code",
   "execution_count": 17,
   "id": "b13017d2-d3cd-4189-8562-9b0031f5a09d",
   "metadata": {
    "tags": []
   },
   "outputs": [
    {
     "data": {
      "text/plain": [
       "2"
      ]
     },
     "execution_count": 17,
     "metadata": {},
     "output_type": "execute_result"
    }
   ],
   "source": [
    "1 + True"
   ]
  },
  {
   "cell_type": "code",
   "execution_count": 18,
   "id": "fd65e67c-8bd6-4cb8-8761-c10391dc4bd1",
   "metadata": {
    "tags": []
   },
   "outputs": [
    {
     "data": {
      "text/plain": [
       "1"
      ]
     },
     "execution_count": 18,
     "metadata": {},
     "output_type": "execute_result"
    }
   ],
   "source": [
    "1 + False"
   ]
  },
  {
   "cell_type": "code",
   "execution_count": null,
   "id": "0b258d1f-07ac-407a-8c1e-f40635341cfb",
   "metadata": {},
   "outputs": [],
   "source": []
  }
 ],
 "metadata": {
  "kernelspec": {
   "display_name": "Python 3 (ipykernel)",
   "language": "python",
   "name": "python3"
  },
  "language_info": {
   "codemirror_mode": {
    "name": "ipython",
    "version": 3
   },
   "file_extension": ".py",
   "mimetype": "text/x-python",
   "name": "python",
   "nbconvert_exporter": "python",
   "pygments_lexer": "ipython3",
   "version": "3.11.4"
  }
 },
 "nbformat": 4,
 "nbformat_minor": 5
}
