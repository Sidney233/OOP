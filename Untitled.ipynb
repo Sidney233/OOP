{
 "cells": [
  {
   "cell_type": "code",
   "execution_count": 1,
   "id": "34a59c60-57a5-4d69-bc95-baf7330a3cf0",
   "metadata": {
    "tags": []
   },
   "outputs": [
    {
     "name": "stdin",
     "output_type": "stream",
     "text": [
      "your name please:  \n"
     ]
    },
    {
     "name": "stdout",
     "output_type": "stream",
     "text": [
      "You forget your name?\n"
     ]
    }
   ],
   "source": [
    "name = input(\"your name please: \")\n",
    "if name:\n",
    "    print(\"Hello, \" + name)\n",
    "else:\n",
    "    print(\"You forget your name?\")"
   ]
  },
  {
   "cell_type": "code",
   "execution_count": 2,
   "id": "a87bbd95-8793-493a-853f-3062584e7c91",
   "metadata": {
    "tags": []
   },
   "outputs": [
    {
     "name": "stdin",
     "output_type": "stream",
     "text": [
      "your name please:  \n"
     ]
    },
    {
     "name": "stdout",
     "output_type": "stream",
     "text": [
      "You forget your name?\n"
     ]
    }
   ],
   "source": [
    "name = input(\"your name please: \")\n",
    "print(\"Hello\" + name if name else \"You forget your name?\")"
   ]
  },
  {
   "cell_type": "code",
   "execution_count": 3,
   "id": "8ee34664-8982-4402-ba4c-00672fcceb4e",
   "metadata": {
    "tags": []
   },
   "outputs": [],
   "source": [
    "def abs(a):\n",
    "    return a if a >= 0 else -a"
   ]
  },
  {
   "cell_type": "code",
   "execution_count": 4,
   "id": "fbc09334-e93f-4d1e-9342-9923d5f80a04",
   "metadata": {
    "tags": []
   },
   "outputs": [
    {
     "data": {
      "text/plain": [
       "True"
      ]
     },
     "execution_count": 4,
     "metadata": {},
     "output_type": "execute_result"
    }
   ],
   "source": [
    "a = 4\n",
    "3 < a < 5"
   ]
  },
  {
   "cell_type": "code",
   "execution_count": 7,
   "id": "422454fd-0c7b-4ada-9829-ddb3f2d53367",
   "metadata": {
    "tags": []
   },
   "outputs": [
    {
     "name": "stdin",
     "output_type": "stream",
     "text": [
      "please input the year:  2010\n"
     ]
    },
    {
     "name": "stdout",
     "output_type": "stream",
     "text": [
      "not a leap year\n"
     ]
    }
   ],
   "source": [
    "year = int(input(\"please input the year: \"))\n",
    "if year % 400 == 0:\n",
    "    print(\"leap year\")\n",
    "elif year % 100 == 0:\n",
    "    print(\"not a leap year\")\n",
    "elif year % 4 == 0:\n",
    "    print(\"leap year\")\n",
    "else:\n",
    "    print(\"not a leap year\")"
   ]
  },
  {
   "cell_type": "code",
   "execution_count": 10,
   "id": "39f394c5-cf93-413c-9f9b-0a59ab37748e",
   "metadata": {
    "tags": []
   },
   "outputs": [
    {
     "name": "stdin",
     "output_type": "stream",
     "text": [
      "please input the year:  2010\n"
     ]
    },
    {
     "name": "stdout",
     "output_type": "stream",
     "text": [
      "not a leap year\n"
     ]
    }
   ],
   "source": [
    "def is_leap_year(year):\n",
    "    if year % 400 == 0:\n",
    "        return True\n",
    "    elif year % 100 == 0:\n",
    "        return False\n",
    "    elif year % 4 == 0:\n",
    "        return True\n",
    "    else:\n",
    "        return False\n",
    "\n",
    "\n",
    "year = int(input(\"please input the year: \"))\n",
    "print(\"leap year\" if is_leap_year(year) else \"not a leap year\")"
   ]
  },
  {
   "cell_type": "code",
   "execution_count": 15,
   "id": "5cbda603-2d1f-4d8f-b4f3-a9e75957d374",
   "metadata": {
    "tags": []
   },
   "outputs": [],
   "source": [
    "def test_is_leap_year():\n",
    "    assert(is_leap_year(2000))\n",
    "    assert(is_leap_year(1900) == False)\n",
    "    assert(is_leap_year(1984))\n",
    "    assert(is_leap_year(3) == False)\n",
    "    \n",
    "\n",
    "test_is_leap_year()"
   ]
  },
  {
   "cell_type": "code",
   "execution_count": 16,
   "id": "ca234a06-0bfa-46c3-a748-9424b88f9e8b",
   "metadata": {
    "tags": []
   },
   "outputs": [
    {
     "name": "stdin",
     "output_type": "stream",
     "text": [
      "please input the year:  -1\n"
     ]
    },
    {
     "name": "stdout",
     "output_type": "stream",
     "text": [
      "invalid year\n"
     ]
    }
   ],
   "source": [
    "def is_leap_year(year):\n",
    "    if year % 400 == 0:\n",
    "        return True\n",
    "    elif year % 100 == 0:\n",
    "        return False\n",
    "    elif year % 4 == 0:\n",
    "        return True\n",
    "    else:\n",
    "        return False\n",
    "\n",
    "\n",
    "year = int(input(\"please input the year: \"))\n",
    "if year < 0:\n",
    "    print(\"invalid year\")\n",
    "else:\n",
    "    print(\"leap year\" if is_leap_year(year) else \"not a leap year\")"
   ]
  },
  {
   "cell_type": "code",
   "execution_count": 18,
   "id": "d2eab7cf-aaf4-4388-8185-e866ee26969e",
   "metadata": {
    "tags": []
   },
   "outputs": [
    {
     "ename": "AssertionError",
     "evalue": "",
     "output_type": "error",
     "traceback": [
      "\u001b[1;31m---------------------------------------------------------------------------\u001b[0m",
      "\u001b[1;31mAssertionError\u001b[0m                            Traceback (most recent call last)",
      "Cell \u001b[1;32mIn[18], line 5\u001b[0m\n\u001b[0;32m      2\u001b[0m     \u001b[38;5;28;01massert\u001b[39;00m(year \u001b[38;5;241m>\u001b[39m\u001b[38;5;241m=\u001b[39m \u001b[38;5;241m0\u001b[39m)\n\u001b[0;32m      3\u001b[0m     \u001b[38;5;28;01mreturn\u001b[39;00m(year \u001b[38;5;241m%\u001b[39m \u001b[38;5;241m400\u001b[39m \u001b[38;5;241m==\u001b[39m \u001b[38;5;241m0\u001b[39m) \u001b[38;5;129;01mand\u001b[39;00m (year \u001b[38;5;241m%\u001b[39m \u001b[38;5;241m4\u001b[39m \u001b[38;5;241m==\u001b[39m \u001b[38;5;241m0\u001b[39m \u001b[38;5;129;01mand\u001b[39;00m year \u001b[38;5;241m%\u001b[39m \u001b[38;5;241m100\u001b[39m)\n\u001b[1;32m----> 5\u001b[0m test_is_leap_year()\n",
      "Cell \u001b[1;32mIn[15], line 2\u001b[0m, in \u001b[0;36mtest_is_leap_year\u001b[1;34m()\u001b[0m\n\u001b[0;32m      1\u001b[0m \u001b[38;5;28;01mdef\u001b[39;00m \u001b[38;5;21mtest_is_leap_year\u001b[39m():\n\u001b[1;32m----> 2\u001b[0m     \u001b[38;5;28;01massert\u001b[39;00m(is_leap_year(\u001b[38;5;241m2000\u001b[39m))\n\u001b[0;32m      3\u001b[0m     \u001b[38;5;28;01massert\u001b[39;00m(is_leap_year(\u001b[38;5;241m1900\u001b[39m) \u001b[38;5;241m==\u001b[39m \u001b[38;5;28;01mFalse\u001b[39;00m)\n\u001b[0;32m      4\u001b[0m     \u001b[38;5;28;01massert\u001b[39;00m(is_leap_year(\u001b[38;5;241m1984\u001b[39m))\n",
      "\u001b[1;31mAssertionError\u001b[0m: "
     ]
    }
   ],
   "source": [
    "def is_leap_year(year):\n",
    "    assert(year >= 0)\n",
    "    return(year % 400 == 0) and (year % 4 == 0 and year % 100)\n",
    "\n",
    "test_is_leap_year()"
   ]
  },
  {
   "cell_type": "code",
   "execution_count": 21,
   "id": "c6070fc7-7481-421f-b59f-acffcd0eebf8",
   "metadata": {
    "tags": []
   },
   "outputs": [
    {
     "name": "stdout",
     "output_type": "stream",
     "text": [
      "1 2 4 5 7 8 10 11 14 16 17 19 20 22 25 26 28 29 40 41 44 46 47 49 50 52 55 56 58 59 61 62 64 65 67 68 70 71 74 76 77 79 80 82 85 86 88 89 91 92 94 95 97 98 100 "
     ]
    }
   ],
   "source": [
    "x = 1\n",
    "while x <= 100:\n",
    "    if x % 3 == 0 or '3' in repr(x):\n",
    "        pass\n",
    "    else:\n",
    "        print(x, end=' ')\n",
    "    x += 1"
   ]
  },
  {
   "cell_type": "code",
   "execution_count": 22,
   "id": "4682a6e4-62fe-4420-87b5-e03796597b53",
   "metadata": {
    "tags": []
   },
   "outputs": [
    {
     "name": "stdout",
     "output_type": "stream",
     "text": [
      "**********\n",
      "**********\n",
      "**********\n",
      "**********\n",
      "**********\n"
     ]
    }
   ],
   "source": [
    "for _ in range(5):\n",
    "    print(\"*\" * 10)"
   ]
  },
  {
   "cell_type": "code",
   "execution_count": 24,
   "id": "a55bae7f-8d0d-4f0c-98c5-c6e2ebbfa348",
   "metadata": {
    "tags": []
   },
   "outputs": [
    {
     "name": "stdout",
     "output_type": "stream",
     "text": [
      "\b                                                           *"
     ]
    }
   ],
   "source": [
    "import math\n",
    "\n",
    "\n",
    "def wait():\n",
    "    y = 0\n",
    "    while y < 500000:\n",
    "        z = math.sin(0.2) * math.exp(0.1)\n",
    "        y += 1\n",
    "\n",
    "bar_length = 60\n",
    "x = 1\n",
    "while x < bar_length:\n",
    "    print(\"\\b *\", sep='', end='', flush=True)\n",
    "    x += 1\n",
    "    wait()"
   ]
  },
  {
   "cell_type": "code",
   "execution_count": 25,
   "id": "b721f885-acb4-4f4f-9a25-4b060e2140b2",
   "metadata": {
    "tags": []
   },
   "outputs": [
    {
     "name": "stdout",
     "output_type": "stream",
     "text": [
      "#                                                          *\r"
     ]
    }
   ],
   "source": [
    "import math\n",
    "\n",
    "\n",
    "def wait():\n",
    "    y = 0\n",
    "    while y < 500000:\n",
    "        z = math.sin(0.2) * math.exp(0.1)\n",
    "        y += 1\n",
    "\n",
    "\n",
    "bar_length = 60\n",
    "x = 0\n",
    "y = bar_length - 1\n",
    "\n",
    "bar = list(' ' * bar_length)\n",
    "\n",
    "for i in range(bar_length):\n",
    "    bar[x] = \"*\"\n",
    "    bar[y] = \"#\"\n",
    "    print(''.join(bar), end='', flush=True)\n",
    "    wait()\n",
    "    bar[x] = ' '\n",
    "    bar[y] = ' '\n",
    "    x += 1\n",
    "    y -= 1\n",
    "    print(\"\\r\", end='', flush=True)"
   ]
  },
  {
   "cell_type": "code",
   "execution_count": 29,
   "id": "e4e87f04-7a09-459b-8bbc-c3fc25b73a79",
   "metadata": {
    "tags": []
   },
   "outputs": [
    {
     "name": "stdout",
     "output_type": "stream",
     "text": [
      "                                                            \r"
     ]
    }
   ],
   "source": [
    "from time import sleep\n",
    "\n",
    "\n",
    "def init_bar(bar_length):\n",
    "    bar = list(\" \" * bar_length)\n",
    "    return bar\n",
    "\n",
    "def init_ants(bar_length):\n",
    "    ants = list()\n",
    "    ants.append({\"position\": 0, \"direction\": 1, \"symbol\": \"*\"})\n",
    "    ants.append({\"position\": bar_length - 1, \"direction\": -1, \"symbol\": \"#\"})\n",
    "    return ants\n",
    "\n",
    "def update_bar(bar, ants):\n",
    "    for i in range(len(bar)):\n",
    "        bar[i] = ' '\n",
    "    for ant in ants:\n",
    "        if 0 <= ant[\"position\"] < len(bar):\n",
    "            bar[ant[\"position\"]] = ant[\"symbol\"]\n",
    "        \n",
    "def is_bar_empty(bar):\n",
    "    for item in bar:\n",
    "        if not item == \" \":\n",
    "            return False\n",
    "    return True\n",
    "\n",
    "def show_bar(bar):\n",
    "    print(\"\".join(bar), end=\"\\r\", flush=True)\n",
    "\n",
    "def update_ants_position(ants):\n",
    "    for ant in ants:\n",
    "        ant[\"position\"] += ant[\"direction\"]\n",
    "\n",
    "BAR_LENGTH = 60\n",
    "\n",
    "bar = init_bar(BAR_LENGTH)\n",
    "ants = init_ants(BAR_LENGTH)\n",
    "\n",
    "update_bar(bar, ants)\n",
    "show_bar(bar)\n",
    "\n",
    "while not is_bar_empty(bar):\n",
    "    update_bar(bar, ants)\n",
    "    show_bar(bar)\n",
    "    sleep(0.2)\n",
    "    update_ants_position(ants)"
   ]
  },
  {
   "cell_type": "code",
   "execution_count": 31,
   "id": "c0f46e93-1f60-4890-91dc-0a4e14e5b23c",
   "metadata": {
    "tags": []
   },
   "outputs": [
    {
     "name": "stdin",
     "output_type": "stream",
     "text": [
      "please input a sentence:  How are you? Hello.\n"
     ]
    },
    {
     "name": "stdout",
     "output_type": "stream",
     "text": [
      "How 3\n",
      "are 3\n",
      "you? 4\n",
      "Hello. 6\n"
     ]
    }
   ],
   "source": [
    "str1 = \"\"\n",
    "while not str1:\n",
    "    str1 = input(\"please input a sentence: \")\n",
    "for word in str1.split():\n",
    "    print(word, len(word))"
   ]
  },
  {
   "cell_type": "code",
   "execution_count": 32,
   "id": "bcfdc653-1905-4025-aa30-a6ca38ced4be",
   "metadata": {
    "tags": []
   },
   "outputs": [
    {
     "name": "stdout",
     "output_type": "stream",
     "text": [
      "a 10\n",
      "b 20\n",
      "c 30\n"
     ]
    }
   ],
   "source": [
    "names = [\"a\", \"b\", \"c\"]\n",
    "age = [10, 20, 30]\n",
    "\n",
    "for i in range(3):\n",
    "    print(names[i], age[i])"
   ]
  },
  {
   "cell_type": "code",
   "execution_count": 33,
   "id": "05594512-c45b-4802-918d-09f266227eb8",
   "metadata": {
    "tags": []
   },
   "outputs": [
    {
     "name": "stdout",
     "output_type": "stream",
     "text": [
      "a 10\n",
      "b 20\n",
      "c 30\n"
     ]
    }
   ],
   "source": [
    "names = [\"a\", \"b\", \"c\"]\n",
    "age = [10, 20, 30]\n",
    "\n",
    "for name, age in zip(names, age):\n",
    "    print(name, age)"
   ]
  },
  {
   "cell_type": "code",
   "execution_count": 35,
   "id": "15bef76d-e428-4442-a38d-5e1cc5018aa0",
   "metadata": {
    "tags": []
   },
   "outputs": [
    {
     "name": "stdout",
     "output_type": "stream",
     "text": [
      "1 a\n",
      "2 b\n",
      "3 c\n"
     ]
    }
   ],
   "source": [
    "names = [\"a\", \"b\", \"c\"]\n",
    "for i in range(len(names)):\n",
    "    print(i + 1, names[i])"
   ]
  },
  {
   "cell_type": "code",
   "execution_count": 37,
   "id": "f2cbc4a6-06bf-4fd5-b150-0170803f1ed8",
   "metadata": {
    "tags": []
   },
   "outputs": [
    {
     "name": "stdout",
     "output_type": "stream",
     "text": [
      "1 a\n",
      "2 b\n",
      "3 c\n"
     ]
    }
   ],
   "source": [
    "names = [\"a\", \"b\", \"c\"]\n",
    "for idx, name in enumerate(names):\n",
    "    print(idx + 1, name)"
   ]
  },
  {
   "cell_type": "code",
   "execution_count": 38,
   "id": "5ffd51e3-d915-441f-a219-2b776eee6ef8",
   "metadata": {
    "tags": []
   },
   "outputs": [
    {
     "data": {
      "text/plain": [
       "[1,\n",
       " 2,\n",
       " 4,\n",
       " 5,\n",
       " 7,\n",
       " 8,\n",
       " 10,\n",
       " 11,\n",
       " 14,\n",
       " 16,\n",
       " 17,\n",
       " 19,\n",
       " 20,\n",
       " 22,\n",
       " 25,\n",
       " 26,\n",
       " 28,\n",
       " 29,\n",
       " 40,\n",
       " 41,\n",
       " 44,\n",
       " 46,\n",
       " 47,\n",
       " 49,\n",
       " 50,\n",
       " 52,\n",
       " 55,\n",
       " 56,\n",
       " 58,\n",
       " 59,\n",
       " 61,\n",
       " 62,\n",
       " 64,\n",
       " 65,\n",
       " 67,\n",
       " 68,\n",
       " 70,\n",
       " 71,\n",
       " 74,\n",
       " 76,\n",
       " 77,\n",
       " 79,\n",
       " 80,\n",
       " 82,\n",
       " 85,\n",
       " 86,\n",
       " 88,\n",
       " 89,\n",
       " 91,\n",
       " 92,\n",
       " 94,\n",
       " 95,\n",
       " 97,\n",
       " 98]"
      ]
     },
     "execution_count": 38,
     "metadata": {},
     "output_type": "execute_result"
    }
   ],
   "source": [
    "[ x for x in range(100) if x % 3 and not \"3\" in str(x) ]"
   ]
  },
  {
   "cell_type": "code",
   "execution_count": 39,
   "id": "eabed702-a1ce-4067-8eb1-97a17add7445",
   "metadata": {
    "tags": []
   },
   "outputs": [
    {
     "data": {
      "text/plain": [
       "[('arnold', 'alice'),\n",
       " ('bob', 'bernaice'),\n",
       " ('chiris', 'clarice'),\n",
       " ('bob', 'beatrice')]"
      ]
     },
     "execution_count": 39,
     "metadata": {},
     "output_type": "execute_result"
    }
   ],
   "source": [
    "girls = ['alice', 'bernaice', 'clarice', 'beatrice']\n",
    "boys = ['chiris', 'arnold', 'bob']\n",
    "[(boy, girl) for girl in girls for boy in boys if boy[0] == girl[0]]"
   ]
  },
  {
   "cell_type": "code",
   "execution_count": 44,
   "id": "8ee71216-3b9a-481e-9bd9-536e1772cf91",
   "metadata": {
    "tags": []
   },
   "outputs": [],
   "source": [
    "t = (i * 3 for i in range(10))"
   ]
  },
  {
   "cell_type": "code",
   "execution_count": 50,
   "id": "c8e0560c-7618-498a-a357-808e0004748e",
   "metadata": {
    "tags": []
   },
   "outputs": [
    {
     "data": {
      "text/plain": [
       "<generator object <genexpr> at 0x0000024AA9718930>"
      ]
     },
     "execution_count": 50,
     "metadata": {},
     "output_type": "execute_result"
    }
   ],
   "source": [
    "t"
   ]
  },
  {
   "cell_type": "code",
   "execution_count": 51,
   "id": "18f0c51d-2a0f-4b46-99a8-ccd804fa564e",
   "metadata": {
    "tags": []
   },
   "outputs": [
    {
     "data": {
      "text/plain": [
       "[0, 3, 6, 9, 12, 15, 18, 21, 24, 27]"
      ]
     },
     "execution_count": 51,
     "metadata": {},
     "output_type": "execute_result"
    }
   ],
   "source": [
    "list(t)"
   ]
  },
  {
   "cell_type": "code",
   "execution_count": 52,
   "id": "2c0e5b85-be6a-4042-a770-a67998010f61",
   "metadata": {
    "tags": []
   },
   "outputs": [
    {
     "name": "stdout",
     "output_type": "stream",
     "text": [
      "abc abc\n"
     ]
    }
   ],
   "source": [
    "x = y = \"abc\"\n",
    "print(x, y)"
   ]
  },
  {
   "cell_type": "code",
   "execution_count": 53,
   "id": "6f2562d2-6064-41f6-b0af-e04e9c273538",
   "metadata": {
    "tags": []
   },
   "outputs": [
    {
     "data": {
      "text/plain": [
       "True"
      ]
     },
     "execution_count": 53,
     "metadata": {},
     "output_type": "execute_result"
    }
   ],
   "source": [
    "x is y"
   ]
  },
  {
   "cell_type": "code",
   "execution_count": 54,
   "id": "481762d2-aa25-43f2-99c7-c03c3986a7d4",
   "metadata": {
    "tags": []
   },
   "outputs": [],
   "source": [
    "del x"
   ]
  },
  {
   "cell_type": "code",
   "execution_count": 55,
   "id": "24e026eb-315d-4005-b24c-77f8b559c08e",
   "metadata": {
    "tags": []
   },
   "outputs": [
    {
     "ename": "NameError",
     "evalue": "name 'x' is not defined",
     "output_type": "error",
     "traceback": [
      "\u001b[1;31m---------------------------------------------------------------------------\u001b[0m",
      "\u001b[1;31mNameError\u001b[0m                                 Traceback (most recent call last)",
      "Cell \u001b[1;32mIn[55], line 1\u001b[0m\n\u001b[1;32m----> 1\u001b[0m x\n",
      "\u001b[1;31mNameError\u001b[0m: name 'x' is not defined"
     ]
    }
   ],
   "source": [
    "x"
   ]
  },
  {
   "cell_type": "code",
   "execution_count": 56,
   "id": "3f23e7e7-c635-4000-bdde-cbc7050b67ce",
   "metadata": {
    "tags": []
   },
   "outputs": [
    {
     "data": {
      "text/plain": [
       "'abc'"
      ]
     },
     "execution_count": 56,
     "metadata": {},
     "output_type": "execute_result"
    }
   ],
   "source": [
    "y"
   ]
  },
  {
   "cell_type": "markdown",
   "id": "47721fc2-5982-4a34-bcb1-07c587197817",
   "metadata": {},
   "source": [
    "只是删掉了 x 这个标签，但是 abc 这个字符串还存在，当没有任何标签指向这个对象之后，这个对象随时会被清除出内存"
   ]
  },
  {
   "cell_type": "code",
   "execution_count": 60,
   "id": "e96584ff-7fd9-4241-8497-5da662c1135f",
   "metadata": {
    "tags": []
   },
   "outputs": [
    {
     "name": "stdout",
     "output_type": "stream",
     "text": [
      "Hello\n"
     ]
    }
   ],
   "source": [
    "exec(\"print('Hello')\")  # 运行执行用户输入"
   ]
  },
  {
   "cell_type": "code",
   "execution_count": 63,
   "id": "49aa5f4d-3f87-4030-a11f-ce658e17b475",
   "metadata": {
    "tags": []
   },
   "outputs": [
    {
     "name": "stdin",
     "output_type": "stream",
     "text": [
      "please input an expression:  2+3\n"
     ]
    },
    {
     "name": "stdout",
     "output_type": "stream",
     "text": [
      "5\n"
     ]
    }
   ],
   "source": [
    "expression = input(\"please input an expression: \")\n",
    "exec(f'print({expression})')"
   ]
  },
  {
   "cell_type": "code",
   "execution_count": 66,
   "id": "20547ec5-6ccd-49b0-a4e3-63e587461df5",
   "metadata": {
    "tags": []
   },
   "outputs": [
    {
     "data": {
      "text/plain": [
       "1.4142135623730951"
      ]
     },
     "execution_count": 66,
     "metadata": {},
     "output_type": "execute_result"
    }
   ],
   "source": [
    "from math import sqrt\n",
    "\n",
    "\n",
    "scope = {}\n",
    "exec('sqrt = 1', scope)\n",
    "sqrt(2)"
   ]
  },
  {
   "cell_type": "code",
   "execution_count": 67,
   "id": "5b0d63f7-81d4-49bb-8442-2fa0b59d75ca",
   "metadata": {
    "tags": []
   },
   "outputs": [
    {
     "name": "stdout",
     "output_type": "stream",
     "text": [
      "Variable               Type                          Data/Info\n",
      "--------------------------------------------------------------\n",
      "BAR_LENGTH             int                           60\n",
      "a                      int                           4\n",
      "abs                    function                      <function abs at 0x0000024AA7C5BEC0>\n",
      "age                    int                           30\n",
      "ants                   list                          n=2\n",
      "bar                    list                          n=60\n",
      "bar_length             int                           60\n",
      "boys                   list                          n=3\n",
      "expression             str                           2+3\n",
      "girls                  list                          n=4\n",
      "i                      int                           2\n",
      "idx                    int                           2\n",
      "init_ants              function                      <function init_ants at 0x0000024AA7C5A840>\n",
      "init_bar               function                      <function init_bar at 0x0000024AA7C58A40>\n",
      "is_bar_empty           function                      <function is_bar_empty at 0x0000024AA7C58C20>\n",
      "is_leap_year           function                      <function is_leap_year at 0x0000024AA7EFD440>\n",
      "math                   module                        <module 'math' (built-in)>\n",
      "name                   str                           c\n",
      "names                  list                          n=3\n",
      "scope                  dict                          n=2\n",
      "show_bar               function                      <function show_bar at 0x0000024AA7C58400>\n",
      "sleep                  builtin_function_or_method    <built-in function sleep>\n",
      "sqrt                   builtin_function_or_method    <built-in function sqrt>\n",
      "str1                   str                           How are you? Hello.\n",
      "t                      generator                     <generator object <genexp<...>r> at 0x0000024AA9718930>\n",
      "test_is_leap_year      function                      <function test_is_leap_ye<...>ar at 0x0000024AA7C7F600>\n",
      "update_ants_position   function                      <function update_ants_pos<...>on at 0x0000024AA7C5A8E0>\n",
      "update_bar             function                      <function update_bar at 0x0000024AA7C5B560>\n",
      "wait                   function                      <function wait at 0x0000024AA7E993A0>\n",
      "word                   str                           Hello.\n",
      "y                      str                           abc\n",
      "year                   int                           -1\n"
     ]
    }
   ],
   "source": [
    "%whos"
   ]
  },
  {
   "cell_type": "code",
   "execution_count": 72,
   "id": "60b38197-84f3-4292-80c3-9981166d6f49",
   "metadata": {
    "tags": []
   },
   "outputs": [],
   "source": [
    "def print_numbers(n):\n",
    "    if n > 0 :\n",
    "        print_numbers(n-1)\n",
    "    print(n)"
   ]
  },
  {
   "cell_type": "code",
   "execution_count": 73,
   "id": "b50b04c5-d083-4d62-b4ed-56294ea6cabd",
   "metadata": {
    "tags": []
   },
   "outputs": [
    {
     "name": "stdout",
     "output_type": "stream",
     "text": [
      "0\n",
      "1\n",
      "2\n",
      "3\n",
      "4\n",
      "5\n",
      "6\n",
      "7\n",
      "8\n",
      "9\n",
      "10\n"
     ]
    }
   ],
   "source": [
    "print_numbers(10)"
   ]
  },
  {
   "cell_type": "code",
   "execution_count": 75,
   "id": "285ec171-6983-4ab3-8298-83eb4fb253b7",
   "metadata": {
    "tags": []
   },
   "outputs": [],
   "source": [
    "def hanoi(n, source, target, temp):\n",
    "    if n == 1:\n",
    "        print(f'{source} -> {target}')\n",
    "    else:\n",
    "        hanoi(n - 1, source, temp, target)\n",
    "        # hanoi(1, source, target, temp)\n",
    "        print(f'{source} -> {target}')\n",
    "        hanoi(n - 1, temp, target, source)"
   ]
  },
  {
   "cell_type": "code",
   "execution_count": 76,
   "id": "755dbcf2-a588-4c41-9863-b323fadc3d45",
   "metadata": {
    "tags": []
   },
   "outputs": [
    {
     "name": "stdout",
     "output_type": "stream",
     "text": [
      "A -> C\n",
      "A -> B\n",
      "C -> B\n",
      "A -> C\n",
      "B -> A\n",
      "B -> C\n",
      "A -> C\n"
     ]
    }
   ],
   "source": [
    "hanoi(3, \"A\", \"C\", \"B\")"
   ]
  },
  {
   "cell_type": "code",
   "execution_count": 77,
   "id": "08b122ef-37cb-4f43-af2e-5df06ac6780c",
   "metadata": {
    "tags": []
   },
   "outputs": [
    {
     "data": {
      "text/plain": [
       "[1, 1, 2, 3, 5, 8, 13, 21, 34, 55]"
      ]
     },
     "execution_count": 77,
     "metadata": {},
     "output_type": "execute_result"
    }
   ],
   "source": [
    "def fib(n):\n",
    "    result = [1, 1]\n",
    "    for i in range(n - 2):\n",
    "        result.append(result[-2] + result[-1])\n",
    "    return result\n",
    "\n",
    "fib(10)"
   ]
  },
  {
   "cell_type": "code",
   "execution_count": 78,
   "id": "965584b3-28b9-44fe-b457-87bcea642cbd",
   "metadata": {
    "tags": []
   },
   "outputs": [
    {
     "name": "stdout",
     "output_type": "stream",
     "text": [
      "55\n"
     ]
    }
   ],
   "source": [
    "def fib(n):\n",
    "    item_before_last, last = 1, 1\n",
    "    for i in range(n - 2):\n",
    "        item_before_last, last = last, item_before_last + last\n",
    "    return last\n",
    "\n",
    "print(fib(10))"
   ]
  },
  {
   "cell_type": "code",
   "execution_count": null,
   "id": "097cc9c5-02ba-44e2-8c44-22f2bf79f251",
   "metadata": {},
   "outputs": [],
   "source": []
  }
 ],
 "metadata": {
  "kernelspec": {
   "display_name": "Python 3 (ipykernel)",
   "language": "python",
   "name": "python3"
  },
  "language_info": {
   "codemirror_mode": {
    "name": "ipython",
    "version": 3
   },
   "file_extension": ".py",
   "mimetype": "text/x-python",
   "name": "python",
   "nbconvert_exporter": "python",
   "pygments_lexer": "ipython3",
   "version": "3.11.4"
  }
 },
 "nbformat": 4,
 "nbformat_minor": 5
}
